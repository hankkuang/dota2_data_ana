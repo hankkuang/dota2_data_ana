{
 "cells": [
  {
   "cell_type": "markdown",
   "metadata": {},
   "source": [
    "# 数据准备\n",
    "## for dota2"
   ]
  },
  {
   "cell_type": "code",
   "execution_count": null,
   "metadata": {
    "collapsed": true
   },
   "outputs": [],
   "source": [
    "import os\n",
    "import pandas as pd\n",
    "path = \"/home/hk/codes/data_annalysis/dota2_data_ana/datasets\"\n",
    "os.chdir(path)"
   ]
  },
  {
   "cell_type": "code",
   "execution_count": null,
   "metadata": {
    "collapsed": false
   },
   "outputs": [],
   "source": [
    "os.listdir()"
   ]
  },
  {
   "cell_type": "code",
   "execution_count": null,
   "metadata": {
    "collapsed": true
   },
   "outputs": [],
   "source": [
    "dota2_train = pd.read_csv(\"dota2Train.csv\", header=None)\n",
    "dota2_test = pd.read_csv(\"dota2Test.csv\", header=None)"
   ]
  },
  {
   "cell_type": "markdown",
   "metadata": {
    "collapsed": true
   },
   "source": [
    "### 配置变量名称"
   ]
  },
  {
   "cell_type": "code",
   "execution_count": null,
   "metadata": {
    "collapsed": true
   },
   "outputs": [],
   "source": [
    "hero_names = {\n",
    "    \"heroes\": [\n",
    "        {\n",
    "            \"name\": \"antimage\",\n",
    "            \"id\": 1,\n",
    "            \"localized_name\": \"Anti-Mage\"\n",
    "        },\n",
    "        {\n",
    "            \"name\": \"axe\",\n",
    "            \"id\": 2,\n",
    "            \"localized_name\": \"Axe\"\n",
    "        },\n",
    "        {\n",
    "            \"name\": \"bane\",\n",
    "            \"id\": 3,\n",
    "            \"localized_name\": \"Bane\"\n",
    "        },\n",
    "        {\n",
    "            \"name\": \"bloodseeker\",\n",
    "            \"id\": 4,\n",
    "            \"localized_name\": \"Bloodseeker\"\n",
    "        },\n",
    "        {\n",
    "            \"name\": \"crystal_maiden\",\n",
    "            \"id\": 5,\n",
    "            \"localized_name\": \"Crystal Maiden\"\n",
    "        },\n",
    "        {\n",
    "            \"name\": \"drow_ranger\",\n",
    "            \"id\": 6,\n",
    "            \"localized_name\": \"Drow Ranger\"\n",
    "        },\n",
    "        {\n",
    "            \"name\": \"earthshaker\",\n",
    "            \"id\": 7,\n",
    "            \"localized_name\": \"Earthshaker\"\n",
    "        },\n",
    "        {\n",
    "            \"name\": \"juggernaut\",\n",
    "            \"id\": 8,\n",
    "            \"localized_name\": \"Juggernaut\"\n",
    "        },\n",
    "        {\n",
    "            \"name\": \"mirana\",\n",
    "            \"id\": 9,\n",
    "            \"localized_name\": \"Mirana\"\n",
    "        },\n",
    "        {\n",
    "            \"name\": \"nevermore\",\n",
    "            \"id\": 11,\n",
    "            \"localized_name\": \"Shadow Fiend\"\n",
    "        },\n",
    "        {\n",
    "            \"name\": \"morphling\",\n",
    "            \"id\": 10,\n",
    "            \"localized_name\": \"Morphling\"\n",
    "        },\n",
    "        {\n",
    "            \"name\": \"phantom_lancer\",\n",
    "            \"id\": 12,\n",
    "            \"localized_name\": \"Phantom Lancer\"\n",
    "        },\n",
    "        {\n",
    "            \"name\": \"puck\",\n",
    "            \"id\": 13,\n",
    "            \"localized_name\": \"Puck\"\n",
    "        },\n",
    "        {\n",
    "            \"name\": \"pudge\",\n",
    "            \"id\": 14,\n",
    "            \"localized_name\": \"Pudge\"\n",
    "        },\n",
    "        {\n",
    "            \"name\": \"razor\",\n",
    "            \"id\": 15,\n",
    "            \"localized_name\": \"Razor\"\n",
    "        },\n",
    "        {\n",
    "            \"name\": \"sand_king\",\n",
    "            \"id\": 16,\n",
    "            \"localized_name\": \"Sand King\"\n",
    "        },\n",
    "        {\n",
    "            \"name\": \"storm_spirit\",\n",
    "            \"id\": 17,\n",
    "            \"localized_name\": \"Storm Spirit\"\n",
    "        },\n",
    "        {\n",
    "            \"name\": \"sven\",\n",
    "            \"id\": 18,\n",
    "            \"localized_name\": \"Sven\"\n",
    "        },\n",
    "        {\n",
    "            \"name\": \"tiny\",\n",
    "            \"id\": 19,\n",
    "            \"localized_name\": \"Tiny\"\n",
    "        },\n",
    "        {\n",
    "            \"name\": \"vengefulspirit\",\n",
    "            \"id\": 20,\n",
    "            \"localized_name\": \"Vengeful Spirit\"\n",
    "        },\n",
    "        {\n",
    "            \"name\": \"windrunner\",\n",
    "            \"id\": 21,\n",
    "            \"localized_name\": \"Windranger\"\n",
    "        },\n",
    "        {\n",
    "            \"name\": \"zuus\",\n",
    "            \"id\": 22,\n",
    "            \"localized_name\": \"Zeus\"\n",
    "        },\n",
    "        {\n",
    "            \"name\": \"kunkka\",\n",
    "            \"id\": 23,\n",
    "            \"localized_name\": \"Kunkka\"\n",
    "        },\n",
    "        {\n",
    "            \"name\": \"lina\",\n",
    "            \"id\": 25,\n",
    "            \"localized_name\": \"Lina\"\n",
    "        },\n",
    "        {\n",
    "            \"name\": \"lich\",\n",
    "            \"id\": 31,\n",
    "            \"localized_name\": \"Lich\"\n",
    "        },\n",
    "        {\n",
    "            \"name\": \"lion\",\n",
    "            \"id\": 26,\n",
    "            \"localized_name\": \"Lion\"\n",
    "        },\n",
    "        {\n",
    "            \"name\": \"shadow_shaman\",\n",
    "            \"id\": 27,\n",
    "            \"localized_name\": \"Shadow Shaman\"\n",
    "        },\n",
    "        {\n",
    "            \"name\": \"slardar\",\n",
    "            \"id\": 28,\n",
    "            \"localized_name\": \"Slardar\"\n",
    "        },\n",
    "        {\n",
    "            \"name\": \"tidehunter\",\n",
    "            \"id\": 29,\n",
    "            \"localized_name\": \"Tidehunter\"\n",
    "        },\n",
    "        {\n",
    "            \"name\": \"witch_doctor\",\n",
    "            \"id\": 30,\n",
    "            \"localized_name\": \"Witch Doctor\"\n",
    "        },\n",
    "        {\n",
    "            \"name\": \"riki\",\n",
    "            \"id\": 32,\n",
    "            \"localized_name\": \"Riki\"\n",
    "        },\n",
    "        {\n",
    "            \"name\": \"enigma\",\n",
    "            \"id\": 33,\n",
    "            \"localized_name\": \"Enigma\"\n",
    "        },\n",
    "        {\n",
    "            \"name\": \"tinker\",\n",
    "            \"id\": 34,\n",
    "            \"localized_name\": \"Tinker\"\n",
    "        },\n",
    "        {\n",
    "            \"name\": \"sniper\",\n",
    "            \"id\": 35,\n",
    "            \"localized_name\": \"Sniper\"\n",
    "        },\n",
    "        {\n",
    "            \"name\": \"necrolyte\",\n",
    "            \"id\": 36,\n",
    "            \"localized_name\": \"Necrophos\"\n",
    "        },\n",
    "        {\n",
    "            \"name\": \"warlock\",\n",
    "            \"id\": 37,\n",
    "            \"localized_name\": \"Warlock\"\n",
    "        },\n",
    "        {\n",
    "            \"name\": \"beastmaster\",\n",
    "            \"id\": 38,\n",
    "            \"localized_name\": \"Beastmaster\"\n",
    "        },\n",
    "        {\n",
    "            \"name\": \"queenofpain\",\n",
    "            \"id\": 39,\n",
    "            \"localized_name\": \"Queen of Pain\"\n",
    "        },\n",
    "        {\n",
    "            \"name\": \"venomancer\",\n",
    "            \"id\": 40,\n",
    "            \"localized_name\": \"Venomancer\"\n",
    "        },\n",
    "        {\n",
    "            \"name\": \"faceless_void\",\n",
    "            \"id\": 41,\n",
    "            \"localized_name\": \"Faceless Void\"\n",
    "        },\n",
    "        {\n",
    "            \"name\": \"skeleton_king\",\n",
    "            \"id\": 42,\n",
    "            \"localized_name\": \"Skeleton King\"\n",
    "        },\n",
    "        {\n",
    "            \"name\": \"death_prophet\",\n",
    "            \"id\": 43,\n",
    "            \"localized_name\": \"Death Prophet\"\n",
    "        },\n",
    "        {\n",
    "            \"name\": \"phantom_assassin\",\n",
    "            \"id\": 44,\n",
    "            \"localized_name\": \"Phantom Assassin\"\n",
    "        },\n",
    "        {\n",
    "            \"name\": \"pugna\",\n",
    "            \"id\": 45,\n",
    "            \"localized_name\": \"Pugna\"\n",
    "        },\n",
    "        {\n",
    "            \"name\": \"templar_assassin\",\n",
    "            \"id\": 46,\n",
    "            \"localized_name\": \"Templar Assassin\"\n",
    "        },\n",
    "        {\n",
    "            \"name\": \"viper\",\n",
    "            \"id\": 47,\n",
    "            \"localized_name\": \"Viper\"\n",
    "        },\n",
    "        {\n",
    "            \"name\": \"luna\",\n",
    "            \"id\": 48,\n",
    "            \"localized_name\": \"Luna\"\n",
    "        },\n",
    "        {\n",
    "            \"name\": \"dragon_knight\",\n",
    "            \"id\": 49,\n",
    "            \"localized_name\": \"Dragon Knight\"\n",
    "        },\n",
    "        {\n",
    "            \"name\": \"dazzle\",\n",
    "            \"id\": 50,\n",
    "            \"localized_name\": \"Dazzle\"\n",
    "        },\n",
    "        {\n",
    "            \"name\": \"rattletrap\",\n",
    "            \"id\": 51,\n",
    "            \"localized_name\": \"Clockwerk\"\n",
    "        },\n",
    "        {\n",
    "            \"name\": \"leshrac\",\n",
    "            \"id\": 52,\n",
    "            \"localized_name\": \"Leshrac\"\n",
    "        },\n",
    "        {\n",
    "            \"name\": \"furion\",\n",
    "            \"id\": 53,\n",
    "            \"localized_name\": \"Nature's Prophet\"\n",
    "        },\n",
    "        {\n",
    "            \"name\": \"life_stealer\",\n",
    "            \"id\": 54,\n",
    "            \"localized_name\": \"Lifestealer\"\n",
    "        },\n",
    "        {\n",
    "            \"name\": \"dark_seer\",\n",
    "            \"id\": 55,\n",
    "            \"localized_name\": \"Dark Seer\"\n",
    "        },\n",
    "        {\n",
    "            \"name\": \"clinkz\",\n",
    "            \"id\": 56,\n",
    "            \"localized_name\": \"Clinkz\"\n",
    "        },\n",
    "        {\n",
    "            \"name\": \"omniknight\",\n",
    "            \"id\": 57,\n",
    "            \"localized_name\": \"Omniknight\"\n",
    "        },\n",
    "        {\n",
    "            \"name\": \"enchantress\",\n",
    "            \"id\": 58,\n",
    "            \"localized_name\": \"Enchantress\"\n",
    "        },\n",
    "        {\n",
    "            \"name\": \"huskar\",\n",
    "            \"id\": 59,\n",
    "            \"localized_name\": \"Huskar\"\n",
    "        },\n",
    "        {\n",
    "            \"name\": \"night_stalker\",\n",
    "            \"id\": 60,\n",
    "            \"localized_name\": \"Night Stalker\"\n",
    "        },\n",
    "        {\n",
    "            \"name\": \"broodmother\",\n",
    "            \"id\": 61,\n",
    "            \"localized_name\": \"Broodmother\"\n",
    "        },\n",
    "        {\n",
    "            \"name\": \"bounty_hunter\",\n",
    "            \"id\": 62,\n",
    "            \"localized_name\": \"Bounty Hunter\"\n",
    "        },\n",
    "        {\n",
    "            \"name\": \"weaver\",\n",
    "            \"id\": 63,\n",
    "            \"localized_name\": \"Weaver\"\n",
    "        },\n",
    "        {\n",
    "            \"name\": \"jakiro\",\n",
    "            \"id\": 64,\n",
    "            \"localized_name\": \"Jakiro\"\n",
    "        },\n",
    "        {\n",
    "            \"name\": \"batrider\",\n",
    "            \"id\": 65,\n",
    "            \"localized_name\": \"Batrider\"\n",
    "        },\n",
    "        {\n",
    "            \"name\": \"chen\",\n",
    "            \"id\": 66,\n",
    "            \"localized_name\": \"Chen\"\n",
    "        },\n",
    "        {\n",
    "            \"name\": \"spectre\",\n",
    "            \"id\": 67,\n",
    "            \"localized_name\": \"Spectre\"\n",
    "        },\n",
    "        {\n",
    "            \"name\": \"doom_bringer\",\n",
    "            \"id\": 69,\n",
    "            \"localized_name\": \"Doom\"\n",
    "        },\n",
    "        {\n",
    "            \"name\": \"ancient_apparition\",\n",
    "            \"id\": 68,\n",
    "            \"localized_name\": \"Ancient Apparition\"\n",
    "        },\n",
    "        {\n",
    "            \"name\": \"ursa\",\n",
    "            \"id\": 70,\n",
    "            \"localized_name\": \"Ursa\"\n",
    "        },\n",
    "        {\n",
    "            \"name\": \"spirit_breaker\",\n",
    "            \"id\": 71,\n",
    "            \"localized_name\": \"Spirit Breaker\"\n",
    "        },\n",
    "        {\n",
    "            \"name\": \"gyrocopter\",\n",
    "            \"id\": 72,\n",
    "            \"localized_name\": \"Gyrocopter\"\n",
    "        },\n",
    "        {\n",
    "            \"name\": \"alchemist\",\n",
    "            \"id\": 73,\n",
    "            \"localized_name\": \"Alchemist\"\n",
    "        },\n",
    "        {\n",
    "            \"name\": \"invoker\",\n",
    "            \"id\": 74,\n",
    "            \"localized_name\": \"Invoker\"\n",
    "        },\n",
    "        {\n",
    "            \"name\": \"silencer\",\n",
    "            \"id\": 75,\n",
    "            \"localized_name\": \"Silencer\"\n",
    "        },\n",
    "        {\n",
    "            \"name\": \"obsidian_destroyer\",\n",
    "            \"id\": 76,\n",
    "            \"localized_name\": \"Outworld Devourer\"\n",
    "        },\n",
    "        {\n",
    "            \"name\": \"lycan\",\n",
    "            \"id\": 77,\n",
    "            \"localized_name\": \"Lycanthrope\"\n",
    "        },\n",
    "        {\n",
    "            \"name\": \"brewmaster\",\n",
    "            \"id\": 78,\n",
    "            \"localized_name\": \"Brewmaster\"\n",
    "        },\n",
    "        {\n",
    "            \"name\": \"shadow_demon\",\n",
    "            \"id\": 79,\n",
    "            \"localized_name\": \"Shadow Demon\"\n",
    "        },\n",
    "        {\n",
    "            \"name\": \"lone_druid\",\n",
    "            \"id\": 80,\n",
    "            \"localized_name\": \"Lone Druid\"\n",
    "        },\n",
    "        {\n",
    "            \"name\": \"chaos_knight\",\n",
    "            \"id\": 81,\n",
    "            \"localized_name\": \"Chaos Knight\"\n",
    "        },\n",
    "        {\n",
    "            \"name\": \"meepo\",\n",
    "            \"id\": 82,\n",
    "            \"localized_name\": \"Meepo\"\n",
    "        },\n",
    "        {\n",
    "            \"name\": \"treant\",\n",
    "            \"id\": 83,\n",
    "            \"localized_name\": \"Treant Protector\"\n",
    "        },\n",
    "        {\n",
    "            \"name\": \"ogre_magi\",\n",
    "            \"id\": 84,\n",
    "            \"localized_name\": \"Ogre Magi\"\n",
    "        },\n",
    "        {\n",
    "            \"name\": \"undying\",\n",
    "            \"id\": 85,\n",
    "            \"localized_name\": \"Undying\"\n",
    "        },\n",
    "        {\n",
    "            \"name\": \"rubick\",\n",
    "            \"id\": 86,\n",
    "            \"localized_name\": \"Rubick\"\n",
    "        },\n",
    "        {\n",
    "            \"name\": \"disruptor\",\n",
    "            \"id\": 87,\n",
    "            \"localized_name\": \"Disruptor\"\n",
    "        },\n",
    "        {\n",
    "            \"name\": \"nyx_assassin\",\n",
    "            \"id\": 88,\n",
    "            \"localized_name\": \"Nyx Assassin\"\n",
    "        },\n",
    "        {\n",
    "            \"name\": \"naga_siren\",\n",
    "            \"id\": 89,\n",
    "            \"localized_name\": \"Naga Siren\"\n",
    "        },\n",
    "        {\n",
    "            \"name\": \"keeper_of_the_light\",\n",
    "            \"id\": 90,\n",
    "            \"localized_name\": \"Keeper of the Light\"\n",
    "        },\n",
    "        {\n",
    "            \"name\": \"wisp\",\n",
    "            \"id\": 91,\n",
    "            \"localized_name\": \"Wisp\"\n",
    "        },\n",
    "        {\n",
    "            \"name\": \"visage\",\n",
    "            \"id\": 92,\n",
    "            \"localized_name\": \"Visage\"\n",
    "        },\n",
    "        {\n",
    "            \"name\": \"slark\",\n",
    "            \"id\": 93,\n",
    "            \"localized_name\": \"Slark\"\n",
    "        },\n",
    "        {\n",
    "            \"name\": \"medusa\",\n",
    "            \"id\": 94,\n",
    "            \"localized_name\": \"Medusa\"\n",
    "        },\n",
    "        {\n",
    "            \"name\": \"troll_warlord\",\n",
    "            \"id\": 95,\n",
    "            \"localized_name\": \"Troll Warlord\"\n",
    "        },\n",
    "        {\n",
    "            \"name\": \"centaur\",\n",
    "            \"id\": 96,\n",
    "            \"localized_name\": \"Centaur Warrunner\"\n",
    "        },\n",
    "        {\n",
    "            \"name\": \"magnataur\",\n",
    "            \"id\": 97,\n",
    "            \"localized_name\": \"Magnus\"\n",
    "        },\n",
    "        {\n",
    "            \"name\": \"shredder\",\n",
    "            \"id\": 98,\n",
    "            \"localized_name\": \"Timbersaw\"\n",
    "        },\n",
    "        {\n",
    "            \"name\": \"bristleback\",\n",
    "            \"id\": 99,\n",
    "            \"localized_name\": \"Bristleback\"\n",
    "        },\n",
    "        {\n",
    "            \"name\": \"tusk\",\n",
    "            \"id\": 100,\n",
    "            \"localized_name\": \"Tusk\"\n",
    "        },\n",
    "        {\n",
    "            \"name\": \"skywrath_mage\",\n",
    "            \"id\": 101,\n",
    "            \"localized_name\": \"Skywrath Mage\"\n",
    "        },\n",
    "        {\n",
    "            \"name\": \"abaddon\",\n",
    "            \"id\": 102,\n",
    "            \"localized_name\": \"Abaddon\"\n",
    "        },\n",
    "        {\n",
    "            \"name\": \"elder_titan\",\n",
    "            \"id\": 103,\n",
    "            \"localized_name\": \"Elder Titan\"\n",
    "        },\n",
    "        {\n",
    "            \"name\": \"legion_commander\",\n",
    "            \"id\": 104,\n",
    "            \"localized_name\": \"Legion Commander\"\n",
    "        },\n",
    "        {\n",
    "            \"name\": \"ember_spirit\",\n",
    "            \"id\": 106,\n",
    "            \"localized_name\": \"Ember Spirit\"\n",
    "        },\n",
    "        {\n",
    "            \"name\": \"earth_spirit\",\n",
    "            \"id\": 107,\n",
    "            \"localized_name\": \"Earth Spirit\"\n",
    "        },\n",
    "        {\n",
    "            \"name\": \"abyssal_underlord\",\n",
    "            \"id\": 108,\n",
    "            \"localized_name\": \"Abyssal Underlord\"\n",
    "        },\n",
    "        {\n",
    "            \"name\": \"terrorblade\",\n",
    "            \"id\": 109,\n",
    "            \"localized_name\": \"Terrorblade\"\n",
    "        },\n",
    "        {\n",
    "            \"name\": \"phoenix\",\n",
    "            \"id\": 110,\n",
    "            \"localized_name\": \"Phoenix\"\n",
    "        },\n",
    "        {\n",
    "            \"name\": \"techies\",\n",
    "            \"id\": 105,\n",
    "            \"localized_name\": \"Techies\"\n",
    "        },\n",
    "        {\n",
    "            \"name\": \"oracle\",\n",
    "            \"id\": 111,\n",
    "            \"localized_name\": \"Oracle\"\n",
    "        },\n",
    "        {\n",
    "            \"name\": \"winter_wyvern\",\n",
    "            \"id\": 112,\n",
    "            \"localized_name\": \"Winter Wyvern\"\n",
    "        },\n",
    "        {\n",
    "            \"name\": \"arc_warden\",\n",
    "            \"id\": 113,\n",
    "            \"localized_name\": \"Arc Warden\"\n",
    "        }\n",
    "    ]\n",
    "}"
   ]
  },
  {
   "cell_type": "markdown",
   "metadata": {},
   "source": [
    "> 将前面的英雄名词映射关系转化成变量名称"
   ]
  },
  {
   "cell_type": "code",
   "execution_count": null,
   "metadata": {
    "collapsed": false
   },
   "outputs": [],
   "source": [
    "heroes = pd.DataFrame(hero_names['heroes'])\n",
    "\n",
    "columns = ['won', 'cluster_id', 'mode', 'type']\n",
    "others = [i for i in range(1, 114)]\n",
    "columns.extend(others)"
   ]
  },
  {
   "cell_type": "code",
   "execution_count": null,
   "metadata": {
    "collapsed": false
   },
   "outputs": [],
   "source": [
    "dota2_train.columns = columns\n",
    "dota2_test.columns = columns"
   ]
  },
  {
   "cell_type": "code",
   "execution_count": null,
   "metadata": {
    "collapsed": true
   },
   "outputs": [],
   "source": [
    "names_dt = dict()\n",
    "for i in heroes.index:\n",
    "    ind = heroes.loc[i, 'id']\n",
    "    val = heroes.loc[i, 'name']\n",
    "    names_dt[ind] = val\n",
    "\n",
    "dota2_train = dota2_train.rename(columns=names_dt)"
   ]
  },
  {
   "cell_type": "markdown",
   "metadata": {},
   "source": [
    "> 变量中如果有英雄未获得名称则命名为unname_hero{i}，如果只有一个匿名英雄则去除i"
   ]
  },
  {
   "cell_type": "code",
   "execution_count": null,
   "metadata": {
    "collapsed": false
   },
   "outputs": [],
   "source": [
    "rename_dt = dict()\n",
    "i = 1\n",
    "for name in dota2_train.columns:\n",
    "    try:\n",
    "        int(name)\n",
    "        rename_dt[name] = 'unname_hero' + str(i)\n",
    "        i += 1\n",
    "    except ValueError:\n",
    "        pass\n",
    "\n",
    "if i == 1:\n",
    "    rename_dt[name] = 'unname_hero'\n",
    "\n",
    "dota2_train = dota2_train.rename(columns=rename_dt)"
   ]
  },
  {
   "cell_type": "code",
   "execution_count": null,
   "metadata": {
    "collapsed": true
   },
   "outputs": [],
   "source": [
    "dota2_test.columns = dota2_train.columns"
   ]
  },
  {
   "cell_type": "code",
   "execution_count": null,
   "metadata": {
    "collapsed": false
   },
   "outputs": [],
   "source": [
    "dota2_train.head()"
   ]
  },
  {
   "cell_type": "markdown",
   "metadata": {},
   "source": [
    "## 检查离散变量与连续变量"
   ]
  },
  {
   "cell_type": "code",
   "execution_count": null,
   "metadata": {
    "collapsed": false
   },
   "outputs": [],
   "source": [
    "continus = []\n",
    "discrete = []\n",
    "\n",
    "for var in dota2_train.columns:\n",
    "    if dota2_train[var].unique().shape[0] >= 5:\n",
    "        continus.append(var)\n",
    "    else:\n",
    "        discrete.append(var)\n",
    "\n",
    "print(continus)\n",
    "print(discrete)"
   ]
  },
  {
   "cell_type": "markdown",
   "metadata": {},
   "source": [
    "**说明：**可以看出，数值种类超出5的只有cluster_id, mode"
   ]
  },
  {
   "cell_type": "markdown",
   "metadata": {
    "collapsed": false
   },
   "source": [
    "## 单变量分析\n",
    "> 此处仅分析训练集合情况"
   ]
  },
  {
   "cell_type": "markdown",
   "metadata": {
    "collapsed": false
   },
   "source": [
    "### 玩家最爱玩的英雄分析"
   ]
  },
  {
   "cell_type": "code",
   "execution_count": null,
   "metadata": {
    "collapsed": true
   },
   "outputs": [],
   "source": [
    "import numpy as np\n",
    "import matplotlib.pyplot as plt\n",
    "%matplotlib inline"
   ]
  },
  {
   "cell_type": "code",
   "execution_count": null,
   "metadata": {
    "collapsed": false
   },
   "outputs": [],
   "source": [
    "heros = [x for x in dota2_train.columns if x not in ['won', 'cluster_id', 'mode', 'type', 'mode_name']]\n",
    "hero_freq = dict()\n",
    "for hero in heros:\n",
    "    hero_data = dota2_train[hero]\n",
    "    hero_data = np.where(hero_data == -1, 1, hero_data)\n",
    "    hero_freq[hero] = hero_data.sum()\n",
    "    \n",
    "hero_counts= pd.Series(hero_freq)"
   ]
  },
  {
   "cell_type": "code",
   "execution_count": null,
   "metadata": {
    "collapsed": false
   },
   "outputs": [],
   "source": [
    "hero_counts.sort_values().head()"
   ]
  },
  {
   "cell_type": "markdown",
   "metadata": {},
   "source": [
    "** 说明： ** 有两个英雄是没有人用过，其他的从brewmaster陡然下降"
   ]
  },
  {
   "cell_type": "code",
   "execution_count": null,
   "metadata": {
    "collapsed": false
   },
   "outputs": [],
   "source": [
    "hero_counts.sort_values(ascending=False).head()"
   ]
  },
  {
   "cell_type": "markdown",
   "metadata": {},
   "source": [
    "**说明：**高频次英雄出现频率其实都差不多"
   ]
  },
  {
   "cell_type": "code",
   "execution_count": null,
   "metadata": {
    "collapsed": false
   },
   "outputs": [],
   "source": [
    "plt.figure(figsize=(20, 8))\n",
    "hero_counts = hero_counts.sort_values(ascending=False)\n",
    "plt.bar(range(hero_counts.shape[0]), hero_counts.values)\n",
    "plt.xticks(range(hero_counts.shape[0]), hero_counts.index, rotation=90)\n",
    "plt.show()"
   ]
  },
  {
   "cell_type": "markdown",
   "metadata": {},
   "source": [
    "**说明：**前20左右的英雄占了绝大部分比例"
   ]
  },
  {
   "cell_type": "markdown",
   "metadata": {},
   "source": [
    "### 分析最受欢迎的游戏模式"
   ]
  },
  {
   "cell_type": "code",
   "execution_count": null,
   "metadata": {
    "collapsed": false
   },
   "outputs": [],
   "source": [
    "mode_name = {1:'classic',\n",
    "            2:'normal',\n",
    "            3:'easy',\n",
    "            4:'AllrandAllmid',\n",
    "            5:'fortress',\n",
    "            6:'arena',\n",
    "            7:'wild',\n",
    "            8:'free',\n",
    "            9:'commander'}\n",
    "dota2_train['mode_name'] = dota2_train['mode'].map(mode_name)"
   ]
  },
  {
   "cell_type": "code",
   "execution_count": null,
   "metadata": {
    "collapsed": false
   },
   "outputs": [],
   "source": [
    "plt.figure(figsize=(10, 8))\n",
    "counts_of_mode = dota2_train['mode_name'].value_counts()\n",
    "plt.bar(range(counts_of_mode.shape[0]), counts_of_mode.values)\n",
    "plt.xticks(range(counts_of_mode.shape[0]), counts_of_mode.index, rotation=45)\n",
    "plt.show()"
   ]
  },
  {
   "cell_type": "markdown",
   "metadata": {
    "collapsed": false
   },
   "source": [
    "**说明:**最受玩家喜爱的模式为【普通】normal,【指挥官】commander,【自由】模式，而【堡垒】fortress，【野外】wild模式比例较小\n",
    "> 对该变量，可以进行类别特征合并处理"
   ]
  },
  {
   "cell_type": "markdown",
   "metadata": {},
   "source": [
    "## 分析游戏type分布情况"
   ]
  },
  {
   "cell_type": "code",
   "execution_count": null,
   "metadata": {
    "collapsed": false,
    "scrolled": false
   },
   "outputs": [],
   "source": [
    "plt.figure(figsize=(10, 8))\n",
    "counts_of_type = dota2_train['type'].value_counts()\n",
    "plt.bar(range(counts_of_type.shape[0]), counts_of_type.values)\n",
    "plt.xticks(range(counts_of_type.shape[0]), counts_of_type.index, rotation=45)\n",
    "plt.show()"
   ]
  },
  {
   "cell_type": "markdown",
   "metadata": {},
   "source": [
    "**说明:**1类型数量偏少，2，3较多，预处理上可以忽略1的影响"
   ]
  },
  {
   "cell_type": "markdown",
   "metadata": {},
   "source": [
    "### 分析cluster_id"
   ]
  },
  {
   "cell_type": "code",
   "execution_count": null,
   "metadata": {
    "collapsed": false
   },
   "outputs": [],
   "source": [
    "dota2_train['cluster_id'].describe()"
   ]
  },
  {
   "cell_type": "code",
   "execution_count": null,
   "metadata": {
    "collapsed": false
   },
   "outputs": [],
   "source": [
    "n, bins, patches = plt.hist(x=dota2_train['cluster_id'], bins=20, facecolor='g', alpha=0.75)\n",
    "\n",
    "mu = round(np.mean(dota2_train['cluster_id']), 4)\n",
    "sigma = round(np.std(dota2_train['cluster_id']), 4)\n",
    "\n",
    "plt.xlabel('cluster_id')\n",
    "plt.ylabel('Probability')\n",
    "plt.title('Histogram of cluster_id')\n",
    "plt.text(200, 30000, r'$\\mu={},\\ \\sigma={}$'.format(mu, sigma))\n",
    "\n",
    "#plt.grid(True)\n",
    "plt.show()"
   ]
  },
  {
   "cell_type": "markdown",
   "metadata": {
    "collapsed": false
   },
   "source": [
    "## 多变量分析\n",
    "### 分析常胜将军\n",
    "> 分析各个英雄的胜率，也就是说，我需要将数据转换成如下格式\n",
    "\n",
    "hero_name | win_times | loss_times\n",
    ":-|:-|:-\n",
    "hero|xx|xx"
   ]
  },
  {
   "cell_type": "code",
   "execution_count": null,
   "metadata": {
    "collapsed": false
   },
   "outputs": [],
   "source": [
    "hero_names = dota2_train.columns[4:-1]\n",
    "hero_names"
   ]
  },
  {
   "cell_type": "code",
   "execution_count": null,
   "metadata": {
    "collapsed": false
   },
   "outputs": [],
   "source": [
    "hero_win_loss = dict()\n",
    "\n",
    "for hero in hero_names:\n",
    "    # 对英雄进行分组\n",
    "    count = dota2_train[hero].value_counts()\n",
    "    # 分组统计hero频次\n",
    "    # 初始化win&loss次数\n",
    "    win_times = 0\n",
    "    loss_times = 0\n",
    "    # 统计win次数\n",
    "    if 1 in count.index:\n",
    "        win_times = count[1]\n",
    "    # 统计loss次数\n",
    "    if -1 in count.index:\n",
    "        loss_times = count[-1]\n",
    "    \n",
    "    hero_win_loss[hero] = {'win':win_times, 'loss':loss_times}\n",
    "\n",
    "    "
   ]
  },
  {
   "cell_type": "code",
   "execution_count": null,
   "metadata": {
    "collapsed": false
   },
   "outputs": [],
   "source": [
    "win_loss_count = pd.DataFrame(hero_win_loss).T"
   ]
  },
  {
   "cell_type": "code",
   "execution_count": null,
   "metadata": {
    "collapsed": false
   },
   "outputs": [],
   "source": [
    "win_loss_count.head()"
   ]
  },
  {
   "cell_type": "code",
   "execution_count": null,
   "metadata": {
    "collapsed": false
   },
   "outputs": [],
   "source": [
    "# 检查结果\n",
    "win_loss_count['total'] = win_loss_count['loss'] + win_loss_count['win']\n",
    "win_loss_count.sort_values(by='total', ascending=False).head()"
   ]
  },
  {
   "cell_type": "code",
   "execution_count": null,
   "metadata": {
    "collapsed": false
   },
   "outputs": [],
   "source": [
    "# 统计胜率，并排序\n",
    "adj = 1e-7\n",
    "\n",
    "win_loss_count['win_pct'] = win_loss_count['win']/(win_loss_count['total'] + adj)"
   ]
  },
  {
   "cell_type": "code",
   "execution_count": null,
   "metadata": {
    "collapsed": false
   },
   "outputs": [],
   "source": [
    "win_loss_count.sort_values(by='win_pct', ascending=False).head()"
   ]
  },
  {
   "cell_type": "code",
   "execution_count": null,
   "metadata": {
    "collapsed": false
   },
   "outputs": [],
   "source": [
    "win_loss_count.sort_values(by='win_pct', ascending=True).head(7)[2:7]"
   ]
  },
  {
   "cell_type": "markdown",
   "metadata": {
    "collapsed": true
   },
   "source": [
    "** 说明：**胜率差距不是非常明显，大多数hero都集中在0.50上下"
   ]
  },
  {
   "cell_type": "code",
   "execution_count": null,
   "metadata": {
    "collapsed": false
   },
   "outputs": [],
   "source": [
    "\n",
    "win_loss_count_dropzero  = win_loss_count.loc[win_loss_count['total']!=0, :]\n",
    "n, bins, patches = plt.hist(x=win_loss_count_dropzero['win_pct'], bins=10, facecolor='g', alpha=0.75)\n",
    "\n",
    "mu = round(np.mean(win_loss_count_dropzero['win_pct']), 4)\n",
    "sigma = round(np.std(win_loss_count_dropzero['win_pct']), 4)\n",
    "\n",
    "plt.xlabel('win_pct')\n",
    "plt.ylabel('Probability')\n",
    "plt.title('Histogram of win_pct')\n",
    "plt.text(0.52, 40, r'$\\mu={},\\ \\sigma={}$'.format(mu, sigma))\n",
    "\n",
    "#plt.grid(True)\n",
    "plt.show()"
   ]
  },
  {
   "cell_type": "markdown",
   "metadata": {},
   "source": [
    "**说明：**直方图也体现了大部分集中在0.5左右，只有furion到了0.55以上"
   ]
  },
  {
   "cell_type": "markdown",
   "metadata": {},
   "source": [
    "## 预测模型开发"
   ]
  },
  {
   "cell_type": "markdown",
   "metadata": {},
   "source": [
    "### 变量选择1：运用统计指标选择变量"
   ]
  },
  {
   "cell_type": "markdown",
   "metadata": {},
   "source": [
    "> 指标：卡方"
   ]
  },
  {
   "cell_type": "code",
   "execution_count": null,
   "metadata": {
    "collapsed": false
   },
   "outputs": [],
   "source": [
    "y_train = pd.Series(np.where(dota2_train['won'] == 1, 1, 0), index=dota2_train.index)\n",
    "X_train = dota2_train.drop(['won', 'mode_name'], axis=1)"
   ]
  },
  {
   "cell_type": "code",
   "execution_count": null,
   "metadata": {
    "collapsed": false
   },
   "outputs": [],
   "source": [
    "from scipy.stats import chi2_contingency\n",
    "\n",
    "chisq_res = dict()\n",
    "for x in X_train.columns:\n",
    "    if x == 'cluster_id':\n",
    "        pass\n",
    "    \n",
    "    ctab = pd.crosstab(index=X_train[x], columns=y_train)\n",
    "    chisq, p_value, degree_of_freedom,  expect_tab = chi2_contingency(ctab)\n",
    "    \n",
    "    chisq_res[x] = {'chisq':chisq, 'p_value':p_value, 'degree_of_freedom':degree_of_freedom}\n",
    "    \n",
    "chisq_res = pd.DataFrame(chisq_res).T"
   ]
  },
  {
   "cell_type": "code",
   "execution_count": null,
   "metadata": {
    "collapsed": false
   },
   "outputs": [],
   "source": [
    "chisq_res.sort_values(by='chisq', ascending=False).head()\n"
   ]
  },
  {
   "cell_type": "code",
   "execution_count": null,
   "metadata": {
    "collapsed": true
   },
   "outputs": [],
   "source": [
    "select_by_chisq = chisq_res[chisq_res['p_value']<=0.05].index"
   ]
  },
  {
   "cell_type": "code",
   "execution_count": null,
   "metadata": {
    "collapsed": false
   },
   "outputs": [],
   "source": [
    "len(select_by_chisq)\n",
    "select_by_chisq = set(select_by_chisq)"
   ]
  },
  {
   "cell_type": "markdown",
   "metadata": {},
   "source": [
    "**根据卡方值，有79个特征进入到模型中**"
   ]
  },
  {
   "cell_type": "markdown",
   "metadata": {},
   "source": [
    "### 特征选择2： 根据随机森林选择特征"
   ]
  },
  {
   "cell_type": "code",
   "execution_count": null,
   "metadata": {
    "collapsed": false
   },
   "outputs": [],
   "source": [
    "from sklearn.ensemble import RandomForestClassifier\n",
    "\n",
    "rf_model = RandomForestClassifier(n_estimators=100, max_depth=5)\n",
    "rf_model.fit(X_train, y_train)"
   ]
  },
  {
   "cell_type": "code",
   "execution_count": null,
   "metadata": {
    "collapsed": false
   },
   "outputs": [],
   "source": [
    "feature_importances_ = pd.Series(rf_model.feature_importances_, index=X_train.columns)"
   ]
  },
  {
   "cell_type": "code",
   "execution_count": null,
   "metadata": {
    "collapsed": false
   },
   "outputs": [],
   "source": [
    "feature_importances_.sort_values(ascending=False).head()"
   ]
  },
  {
   "cell_type": "code",
   "execution_count": null,
   "metadata": {
    "collapsed": false
   },
   "outputs": [],
   "source": [
    "plt.figure(figsize=(20, 8))\n",
    "fi = feature_importances_.sort_values(ascending=False)\n",
    "plt.bar(range(fi.shape[0]), fi.values)\n",
    "plt.xticks(range(fi.shape[0]), fi.index, rotation=90)\n",
    "plt.show()"
   ]
  },
  {
   "cell_type": "code",
   "execution_count": null,
   "metadata": {
    "collapsed": false
   },
   "outputs": [],
   "source": [
    "sum(feature_importances_ > 0.01)"
   ]
  },
  {
   "cell_type": "code",
   "execution_count": null,
   "metadata": {
    "collapsed": true
   },
   "outputs": [],
   "source": [
    "select_by_rf = feature_importances_[feature_importances_>0.01].index"
   ]
  },
  {
   "cell_type": "code",
   "execution_count": null,
   "metadata": {
    "collapsed": false
   },
   "outputs": [],
   "source": [
    "select_by_rf = set(select_by_chisq)"
   ]
  },
  {
   "cell_type": "markdown",
   "metadata": {},
   "source": [
    "** 根据随机森林算法，一共有21个变量进入模型**"
   ]
  },
  {
   "cell_type": "markdown",
   "metadata": {},
   "source": [
    "### 合并两种方法选择的结果"
   ]
  },
  {
   "cell_type": "code",
   "execution_count": null,
   "metadata": {
    "collapsed": true
   },
   "outputs": [],
   "source": [
    "X_var_list = list(select_by_chisq | select_by_rf)"
   ]
  },
  {
   "cell_type": "code",
   "execution_count": null,
   "metadata": {
    "collapsed": false
   },
   "outputs": [],
   "source": [
    "len(X_var_list)"
   ]
  },
  {
   "cell_type": "markdown",
   "metadata": {},
   "source": [
    "## 模型开发\n",
    "预备模型为三种：\n",
    "\n",
    "* SVM\n",
    "* 随机森林\n",
    "* logistic回归\n",
    "* GBDT分类\n",
    "\n",
    "\n",
    "** 注意: **其中SVM，GBDT，随机森林将采用gridsearch法搜索最佳参数 "
   ]
  },
  {
   "cell_type": "markdown",
   "metadata": {
    "collapsed": true
   },
   "source": [
    "> 数据准备：\n",
    "\n",
    "* 将cluster_id加入到模型，并将其标准化\n",
    "* 将mode进行二值话，将normal定义为1，其他为0"
   ]
  },
  {
   "cell_type": "code",
   "execution_count": null,
   "metadata": {
    "collapsed": false
   },
   "outputs": [],
   "source": [
    "\n",
    "X_var_list.append('cluster_id')\n",
    "X_train = dota2_train[X_var_list]"
   ]
  },
  {
   "cell_type": "code",
   "execution_count": null,
   "metadata": {
    "collapsed": false
   },
   "outputs": [],
   "source": [
    "from sklearn.preprocessing import MinMaxScaler\n",
    "\n",
    "cluster_id_normed = MinMaxScaler().fit(X_train[['cluster_id']])"
   ]
  },
  {
   "cell_type": "code",
   "execution_count": null,
   "metadata": {
    "collapsed": false
   },
   "outputs": [],
   "source": [
    "X_train = X_train.assign(cluster_id = cluster_id_normed.transform(X_train[['cluster_id']]))"
   ]
  },
  {
   "cell_type": "code",
   "execution_count": null,
   "metadata": {
    "collapsed": false
   },
   "outputs": [],
   "source": [
    "#X_train['type'] = np.where(X_train['type']==2, 1, 0)\n",
    "X_train['mode'] = np.where(X_train['mode']==2, 1, 0)"
   ]
  },
  {
   "cell_type": "markdown",
   "metadata": {},
   "source": [
    "### SVM模型开发\n",
    "\n",
    "* 参数优化有惩罚项C，以及核函数的gamma值\n",
    "* 核函数采用rbf"
   ]
  },
  {
   "cell_type": "code",
   "execution_count": null,
   "metadata": {
    "collapsed": true
   },
   "outputs": [],
   "source": [
    "from sklearn.model_selection import GridSearchCV"
   ]
  },
  {
   "cell_type": "code",
   "execution_count": null,
   "metadata": {
    "collapsed": false,
    "scrolled": true
   },
   "outputs": [],
   "source": [
    "\n",
    "from sklearn.svm import SVC\n",
    "#from sklearn.model_selection import GridSearchCV\n",
    "\n",
    "#fit_params_svm = {'gamma': [0.0001, 0.0005, 0.001, 0.005, 0.01, 0.1]}\n",
    "\n",
    "svm = SVC(kernel='rbf', probability=True)\n",
    "svm = svm.fit(X_train, y_train)\n"
   ]
  },
  {
   "cell_type": "markdown",
   "metadata": {},
   "source": [
    "### 随机森林模型\n",
    "* 优化参数：\n",
    "** max_features, max_depth, min_samples_split, min_samples_leaf, bootstrap, criterion **"
   ]
  },
  {
   "cell_type": "code",
   "execution_count": null,
   "metadata": {
    "collapsed": false
   },
   "outputs": [],
   "source": [
    "from sklearn.ensemble import RandomForestClassifier\n",
    "\n",
    "\n",
    "fit_params_rf = {\"max_depth\": [3, None],\n",
    "                          \"max_features\": [1, 3, 10],\n",
    "                          \"min_samples_split\": [2, 3, 10],\n",
    "                          \"min_samples_leaf\": [1, 3, 10],\n",
    "                          }\n",
    "\n",
    "RF = RandomForestClassifier(n_estimators=100, max_depth=3, min_samples_leaf=10, min_samples_split=10) \n",
    "RF = RF.fit(X_train, y_train)"
   ]
  },
  {
   "cell_type": "markdown",
   "metadata": {},
   "source": [
    "### GBDT模型\n",
    "* 优化参数：\n",
    "**learning_rate，max_features, max_depth, min_samples_split, min_samples_leaf **"
   ]
  },
  {
   "cell_type": "code",
   "execution_count": null,
   "metadata": {
    "collapsed": true
   },
   "outputs": [],
   "source": [
    "from sklearn.ensemble import GradientBoostingClassifier\n",
    "\n",
    "\n",
    "\n",
    "fit_params_gbdt = {\"learning_rate\":[0.1, 1, 10],\n",
    "                             \"max_depth\": [3, None],\n",
    "                              \"max_features\": [1, 3, 10],\n",
    "                              \"min_samples_split\": [2, 3, 10],\n",
    "                              \"min_samples_leaf\": [1, 3, 10],\n",
    "                             }\n",
    "\n",
    "GBDT = GradientBoostingClassifier(n_estimators=100, max_depth=3, min_samples_leaf=10, min_samples_split=10)\n",
    "GBDT = GBDT.fit(X_train, y_train)\n"
   ]
  },
  {
   "cell_type": "markdown",
   "metadata": {},
   "source": [
    "### Logistic 模型"
   ]
  },
  {
   "cell_type": "code",
   "execution_count": null,
   "metadata": {
    "collapsed": false,
    "scrolled": true
   },
   "outputs": [],
   "source": [
    "from statsmodels.api import Logit\n",
    "from statsmodels.api import add_constant\n",
    "\n",
    "X = add_constant(X_train)\n",
    "logit_model = Logit(endog=y_train, exog=X)\n",
    "logit_results = logit_model.fit()\n",
    "logit_results.summary()"
   ]
  },
  {
   "cell_type": "markdown",
   "metadata": {},
   "source": [
    "**说明：**除了cluster_id以外各个参数比较显著，暂时不需要进行VIF计算，排除cluster_id后重新拟合"
   ]
  },
  {
   "cell_type": "code",
   "execution_count": null,
   "metadata": {
    "collapsed": false
   },
   "outputs": [],
   "source": [
    "X = X.drop('cluster_id', axis=1)\n",
    "logit_model2 = Logit(endog=y_train, exog=X)\n",
    "logit_results2 = logit_model2.fit()\n",
    "logit_results2.summary()"
   ]
  },
  {
   "cell_type": "markdown",
   "metadata": {},
   "source": [
    "### 模型评价&比较\n",
    " **评价方法**\n",
    "* ROC曲线\n",
    "* 分类指标汇总"
   ]
  },
  {
   "cell_type": "code",
   "execution_count": null,
   "metadata": {
    "collapsed": false
   },
   "outputs": [],
   "source": [
    "X_test = dota2_test[X_var_list]\n",
    "y_test = np.where(dota2_test['won'] == 1, 1, 0)\n",
    "\n",
    "X_test['cluster_id'] = MinMaxScaler().fit_transform(X_test[['cluster_id']])\n",
    "X_test['mode'] = np.where(X_test['mode']==2, 1, 0)\n",
    "\n",
    "X_test2 = add_constant(X_test).drop('cluster_id', axis=1)"
   ]
  },
  {
   "cell_type": "code",
   "execution_count": null,
   "metadata": {
    "collapsed": false
   },
   "outputs": [],
   "source": [
    "print(X_test.shape)\n",
    "print(X_test2.shape)\n",
    "print(y_test.shape)"
   ]
  },
  {
   "cell_type": "code",
   "execution_count": null,
   "metadata": {
    "collapsed": false
   },
   "outputs": [],
   "source": [
    "from sklearn.metrics import roc_curve\n",
    "from sklearn.metrics import classification_report\n",
    "\n",
    "models = {\"logistic\":logit_model2,  \"GBDT\":GBDT, \"randomForest\":RF, \"SVM\":svm}\n",
    "predict_prob = models['logistic'].predict(X_test2)"
   ]
  },
  {
   "cell_type": "code",
   "execution_count": null,
   "metadata": {
    "collapsed": false
   },
   "outputs": [],
   "source": [
    "predict_prob =  GBDT.predict_proba(X_test)[:, 1]\n",
    "predict_prob.shape"
   ]
  },
  {
   "cell_type": "code",
   "execution_count": null,
   "metadata": {
    "collapsed": false
   },
   "outputs": [],
   "source": [
    "from sklearn.metrics import roc_curve\n",
    "from sklearn.metrics import classification_report\n",
    "from sklearn.metrics import auc\n",
    "\n",
    "models = {\"logistic\":logit_model2,  \"GBDT\":GBDT, \"randomForest\":RF, \"SVM\":svm}\n",
    "\n",
    "\n",
    "plt.figure(figsize=(10, 8))\n",
    "plt.plot([0, 1], [0, 1], 'k--')\n",
    "\n",
    "auc_dt = dict()\n",
    "colors = ['aqua', 'darkorange', 'cornflowerblue', 'blue']\n",
    "i = 0\n",
    "for clf in models.keys():\n",
    "    if clf == 'logistic':\n",
    "        predict_prob = models[clf].predict(params =logit_results2.params, exog=X_test2)\n",
    "        pred = np.where(predict_prob > 0.5, 1, 0)\n",
    "    else:\n",
    "        try:\n",
    "            predict_prob =  models[clf].predict_proba(X_test)[:, 1]\n",
    "        except AttributeError:\n",
    "            print(clf)\n",
    "        pred =  models[clf].predict(X_test)\n",
    "    \n",
    "    fpr, tpr, _ = roc_curve(y_test, predict_prob)\n",
    "    auc_dt[clf] = auc(fpr, tpr)\n",
    "    plt.plot(fpr, tpr, label=clf, color=colors[i])\n",
    "    \n",
    "    i += 1\n",
    "   \n",
    "    print(\"classifier report of %s\" % clf)\n",
    "    print(classification_report(y_test, pred, labels=[0, 1]))\n",
    "\n",
    "    \n",
    "plt.xlabel('False positive rate')\n",
    "plt.ylabel('True positive rate')\n",
    "plt.title('ROC curve')\n",
    "plt.legend(loc='best')\n",
    "plt.show()\n",
    "\n",
    "    \n",
    "    \n",
    "    \n",
    "    \n"
   ]
  },
  {
   "cell_type": "code",
   "execution_count": null,
   "metadata": {
    "collapsed": true
   },
   "outputs": [],
   "source": []
  }
 ],
 "metadata": {
  "kernelspec": {
   "display_name": "Python 3",
   "language": "python",
   "name": "python3"
  },
  "language_info": {
   "codemirror_mode": {
    "name": "ipython",
    "version": 3
   },
   "file_extension": ".py",
   "mimetype": "text/x-python",
   "name": "python",
   "nbconvert_exporter": "python",
   "pygments_lexer": "ipython3",
   "version": "3.6.0"
  }
 },
 "nbformat": 4,
 "nbformat_minor": 2
}
