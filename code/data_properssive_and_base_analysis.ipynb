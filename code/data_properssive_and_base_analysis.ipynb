{
 "cells": [
  {
   "cell_type": "markdown",
   "metadata": {},
   "source": [
    "# 数据准备\n",
    "## for dota2"
   ]
  },
  {
   "cell_type": "code",
   "execution_count": 1,
   "metadata": {
    "collapsed": true
   },
   "outputs": [],
   "source": [
    "import os\n",
    "import pandas as pd\n",
    "path = \"/home/hk/codes/data_annalysis/dota2_data_ana/datasets\"\n",
    "os.chdir(path)"
   ]
  },
  {
   "cell_type": "code",
   "execution_count": 2,
   "metadata": {
    "collapsed": false
   },
   "outputs": [
    {
     "data": {
      "text/plain": [
       "['dota2Train.csv', 'dota2Test.csv']"
      ]
     },
     "execution_count": 2,
     "metadata": {},
     "output_type": "execute_result"
    }
   ],
   "source": [
    "os.listdir()"
   ]
  },
  {
   "cell_type": "code",
   "execution_count": 3,
   "metadata": {
    "collapsed": true
   },
   "outputs": [],
   "source": [
    "dota2_train = pd.read_csv(\"dota2Train.csv\", header=None)\n",
    "dota2_test = pd.read_csv(\"dota2Test.csv\", header=None)"
   ]
  },
  {
   "cell_type": "code",
   "execution_count": 4,
   "metadata": {
    "collapsed": true
   },
   "outputs": [],
   "source": [
    "### 配置变量名称"
   ]
  },
  {
   "cell_type": "code",
   "execution_count": 5,
   "metadata": {
    "collapsed": true
   },
   "outputs": [],
   "source": [
    "hero_names = {\n",
    "    \"heroes\": [\n",
    "        {\n",
    "            \"name\": \"antimage\",\n",
    "            \"id\": 1,\n",
    "            \"localized_name\": \"Anti-Mage\"\n",
    "        },\n",
    "        {\n",
    "            \"name\": \"axe\",\n",
    "            \"id\": 2,\n",
    "            \"localized_name\": \"Axe\"\n",
    "        },\n",
    "        {\n",
    "            \"name\": \"bane\",\n",
    "            \"id\": 3,\n",
    "            \"localized_name\": \"Bane\"\n",
    "        },\n",
    "        {\n",
    "            \"name\": \"bloodseeker\",\n",
    "            \"id\": 4,\n",
    "            \"localized_name\": \"Bloodseeker\"\n",
    "        },\n",
    "        {\n",
    "            \"name\": \"crystal_maiden\",\n",
    "            \"id\": 5,\n",
    "            \"localized_name\": \"Crystal Maiden\"\n",
    "        },\n",
    "        {\n",
    "            \"name\": \"drow_ranger\",\n",
    "            \"id\": 6,\n",
    "            \"localized_name\": \"Drow Ranger\"\n",
    "        },\n",
    "        {\n",
    "            \"name\": \"earthshaker\",\n",
    "            \"id\": 7,\n",
    "            \"localized_name\": \"Earthshaker\"\n",
    "        },\n",
    "        {\n",
    "            \"name\": \"juggernaut\",\n",
    "            \"id\": 8,\n",
    "            \"localized_name\": \"Juggernaut\"\n",
    "        },\n",
    "        {\n",
    "            \"name\": \"mirana\",\n",
    "            \"id\": 9,\n",
    "            \"localized_name\": \"Mirana\"\n",
    "        },\n",
    "        {\n",
    "            \"name\": \"nevermore\",\n",
    "            \"id\": 11,\n",
    "            \"localized_name\": \"Shadow Fiend\"\n",
    "        },\n",
    "        {\n",
    "            \"name\": \"morphling\",\n",
    "            \"id\": 10,\n",
    "            \"localized_name\": \"Morphling\"\n",
    "        },\n",
    "        {\n",
    "            \"name\": \"phantom_lancer\",\n",
    "            \"id\": 12,\n",
    "            \"localized_name\": \"Phantom Lancer\"\n",
    "        },\n",
    "        {\n",
    "            \"name\": \"puck\",\n",
    "            \"id\": 13,\n",
    "            \"localized_name\": \"Puck\"\n",
    "        },\n",
    "        {\n",
    "            \"name\": \"pudge\",\n",
    "            \"id\": 14,\n",
    "            \"localized_name\": \"Pudge\"\n",
    "        },\n",
    "        {\n",
    "            \"name\": \"razor\",\n",
    "            \"id\": 15,\n",
    "            \"localized_name\": \"Razor\"\n",
    "        },\n",
    "        {\n",
    "            \"name\": \"sand_king\",\n",
    "            \"id\": 16,\n",
    "            \"localized_name\": \"Sand King\"\n",
    "        },\n",
    "        {\n",
    "            \"name\": \"storm_spirit\",\n",
    "            \"id\": 17,\n",
    "            \"localized_name\": \"Storm Spirit\"\n",
    "        },\n",
    "        {\n",
    "            \"name\": \"sven\",\n",
    "            \"id\": 18,\n",
    "            \"localized_name\": \"Sven\"\n",
    "        },\n",
    "        {\n",
    "            \"name\": \"tiny\",\n",
    "            \"id\": 19,\n",
    "            \"localized_name\": \"Tiny\"\n",
    "        },\n",
    "        {\n",
    "            \"name\": \"vengefulspirit\",\n",
    "            \"id\": 20,\n",
    "            \"localized_name\": \"Vengeful Spirit\"\n",
    "        },\n",
    "        {\n",
    "            \"name\": \"windrunner\",\n",
    "            \"id\": 21,\n",
    "            \"localized_name\": \"Windranger\"\n",
    "        },\n",
    "        {\n",
    "            \"name\": \"zuus\",\n",
    "            \"id\": 22,\n",
    "            \"localized_name\": \"Zeus\"\n",
    "        },\n",
    "        {\n",
    "            \"name\": \"kunkka\",\n",
    "            \"id\": 23,\n",
    "            \"localized_name\": \"Kunkka\"\n",
    "        },\n",
    "        {\n",
    "            \"name\": \"lina\",\n",
    "            \"id\": 25,\n",
    "            \"localized_name\": \"Lina\"\n",
    "        },\n",
    "        {\n",
    "            \"name\": \"lich\",\n",
    "            \"id\": 31,\n",
    "            \"localized_name\": \"Lich\"\n",
    "        },\n",
    "        {\n",
    "            \"name\": \"lion\",\n",
    "            \"id\": 26,\n",
    "            \"localized_name\": \"Lion\"\n",
    "        },\n",
    "        {\n",
    "            \"name\": \"shadow_shaman\",\n",
    "            \"id\": 27,\n",
    "            \"localized_name\": \"Shadow Shaman\"\n",
    "        },\n",
    "        {\n",
    "            \"name\": \"slardar\",\n",
    "            \"id\": 28,\n",
    "            \"localized_name\": \"Slardar\"\n",
    "        },\n",
    "        {\n",
    "            \"name\": \"tidehunter\",\n",
    "            \"id\": 29,\n",
    "            \"localized_name\": \"Tidehunter\"\n",
    "        },\n",
    "        {\n",
    "            \"name\": \"witch_doctor\",\n",
    "            \"id\": 30,\n",
    "            \"localized_name\": \"Witch Doctor\"\n",
    "        },\n",
    "        {\n",
    "            \"name\": \"riki\",\n",
    "            \"id\": 32,\n",
    "            \"localized_name\": \"Riki\"\n",
    "        },\n",
    "        {\n",
    "            \"name\": \"enigma\",\n",
    "            \"id\": 33,\n",
    "            \"localized_name\": \"Enigma\"\n",
    "        },\n",
    "        {\n",
    "            \"name\": \"tinker\",\n",
    "            \"id\": 34,\n",
    "            \"localized_name\": \"Tinker\"\n",
    "        },\n",
    "        {\n",
    "            \"name\": \"sniper\",\n",
    "            \"id\": 35,\n",
    "            \"localized_name\": \"Sniper\"\n",
    "        },\n",
    "        {\n",
    "            \"name\": \"necrolyte\",\n",
    "            \"id\": 36,\n",
    "            \"localized_name\": \"Necrophos\"\n",
    "        },\n",
    "        {\n",
    "            \"name\": \"warlock\",\n",
    "            \"id\": 37,\n",
    "            \"localized_name\": \"Warlock\"\n",
    "        },\n",
    "        {\n",
    "            \"name\": \"beastmaster\",\n",
    "            \"id\": 38,\n",
    "            \"localized_name\": \"Beastmaster\"\n",
    "        },\n",
    "        {\n",
    "            \"name\": \"queenofpain\",\n",
    "            \"id\": 39,\n",
    "            \"localized_name\": \"Queen of Pain\"\n",
    "        },\n",
    "        {\n",
    "            \"name\": \"venomancer\",\n",
    "            \"id\": 40,\n",
    "            \"localized_name\": \"Venomancer\"\n",
    "        },\n",
    "        {\n",
    "            \"name\": \"faceless_void\",\n",
    "            \"id\": 41,\n",
    "            \"localized_name\": \"Faceless Void\"\n",
    "        },\n",
    "        {\n",
    "            \"name\": \"skeleton_king\",\n",
    "            \"id\": 42,\n",
    "            \"localized_name\": \"Skeleton King\"\n",
    "        },\n",
    "        {\n",
    "            \"name\": \"death_prophet\",\n",
    "            \"id\": 43,\n",
    "            \"localized_name\": \"Death Prophet\"\n",
    "        },\n",
    "        {\n",
    "            \"name\": \"phantom_assassin\",\n",
    "            \"id\": 44,\n",
    "            \"localized_name\": \"Phantom Assassin\"\n",
    "        },\n",
    "        {\n",
    "            \"name\": \"pugna\",\n",
    "            \"id\": 45,\n",
    "            \"localized_name\": \"Pugna\"\n",
    "        },\n",
    "        {\n",
    "            \"name\": \"templar_assassin\",\n",
    "            \"id\": 46,\n",
    "            \"localized_name\": \"Templar Assassin\"\n",
    "        },\n",
    "        {\n",
    "            \"name\": \"viper\",\n",
    "            \"id\": 47,\n",
    "            \"localized_name\": \"Viper\"\n",
    "        },\n",
    "        {\n",
    "            \"name\": \"luna\",\n",
    "            \"id\": 48,\n",
    "            \"localized_name\": \"Luna\"\n",
    "        },\n",
    "        {\n",
    "            \"name\": \"dragon_knight\",\n",
    "            \"id\": 49,\n",
    "            \"localized_name\": \"Dragon Knight\"\n",
    "        },\n",
    "        {\n",
    "            \"name\": \"dazzle\",\n",
    "            \"id\": 50,\n",
    "            \"localized_name\": \"Dazzle\"\n",
    "        },\n",
    "        {\n",
    "            \"name\": \"rattletrap\",\n",
    "            \"id\": 51,\n",
    "            \"localized_name\": \"Clockwerk\"\n",
    "        },\n",
    "        {\n",
    "            \"name\": \"leshrac\",\n",
    "            \"id\": 52,\n",
    "            \"localized_name\": \"Leshrac\"\n",
    "        },\n",
    "        {\n",
    "            \"name\": \"furion\",\n",
    "            \"id\": 53,\n",
    "            \"localized_name\": \"Nature's Prophet\"\n",
    "        },\n",
    "        {\n",
    "            \"name\": \"life_stealer\",\n",
    "            \"id\": 54,\n",
    "            \"localized_name\": \"Lifestealer\"\n",
    "        },\n",
    "        {\n",
    "            \"name\": \"dark_seer\",\n",
    "            \"id\": 55,\n",
    "            \"localized_name\": \"Dark Seer\"\n",
    "        },\n",
    "        {\n",
    "            \"name\": \"clinkz\",\n",
    "            \"id\": 56,\n",
    "            \"localized_name\": \"Clinkz\"\n",
    "        },\n",
    "        {\n",
    "            \"name\": \"omniknight\",\n",
    "            \"id\": 57,\n",
    "            \"localized_name\": \"Omniknight\"\n",
    "        },\n",
    "        {\n",
    "            \"name\": \"enchantress\",\n",
    "            \"id\": 58,\n",
    "            \"localized_name\": \"Enchantress\"\n",
    "        },\n",
    "        {\n",
    "            \"name\": \"huskar\",\n",
    "            \"id\": 59,\n",
    "            \"localized_name\": \"Huskar\"\n",
    "        },\n",
    "        {\n",
    "            \"name\": \"night_stalker\",\n",
    "            \"id\": 60,\n",
    "            \"localized_name\": \"Night Stalker\"\n",
    "        },\n",
    "        {\n",
    "            \"name\": \"broodmother\",\n",
    "            \"id\": 61,\n",
    "            \"localized_name\": \"Broodmother\"\n",
    "        },\n",
    "        {\n",
    "            \"name\": \"bounty_hunter\",\n",
    "            \"id\": 62,\n",
    "            \"localized_name\": \"Bounty Hunter\"\n",
    "        },\n",
    "        {\n",
    "            \"name\": \"weaver\",\n",
    "            \"id\": 63,\n",
    "            \"localized_name\": \"Weaver\"\n",
    "        },\n",
    "        {\n",
    "            \"name\": \"jakiro\",\n",
    "            \"id\": 64,\n",
    "            \"localized_name\": \"Jakiro\"\n",
    "        },\n",
    "        {\n",
    "            \"name\": \"batrider\",\n",
    "            \"id\": 65,\n",
    "            \"localized_name\": \"Batrider\"\n",
    "        },\n",
    "        {\n",
    "            \"name\": \"chen\",\n",
    "            \"id\": 66,\n",
    "            \"localized_name\": \"Chen\"\n",
    "        },\n",
    "        {\n",
    "            \"name\": \"spectre\",\n",
    "            \"id\": 67,\n",
    "            \"localized_name\": \"Spectre\"\n",
    "        },\n",
    "        {\n",
    "            \"name\": \"doom_bringer\",\n",
    "            \"id\": 69,\n",
    "            \"localized_name\": \"Doom\"\n",
    "        },\n",
    "        {\n",
    "            \"name\": \"ancient_apparition\",\n",
    "            \"id\": 68,\n",
    "            \"localized_name\": \"Ancient Apparition\"\n",
    "        },\n",
    "        {\n",
    "            \"name\": \"ursa\",\n",
    "            \"id\": 70,\n",
    "            \"localized_name\": \"Ursa\"\n",
    "        },\n",
    "        {\n",
    "            \"name\": \"spirit_breaker\",\n",
    "            \"id\": 71,\n",
    "            \"localized_name\": \"Spirit Breaker\"\n",
    "        },\n",
    "        {\n",
    "            \"name\": \"gyrocopter\",\n",
    "            \"id\": 72,\n",
    "            \"localized_name\": \"Gyrocopter\"\n",
    "        },\n",
    "        {\n",
    "            \"name\": \"alchemist\",\n",
    "            \"id\": 73,\n",
    "            \"localized_name\": \"Alchemist\"\n",
    "        },\n",
    "        {\n",
    "            \"name\": \"invoker\",\n",
    "            \"id\": 74,\n",
    "            \"localized_name\": \"Invoker\"\n",
    "        },\n",
    "        {\n",
    "            \"name\": \"silencer\",\n",
    "            \"id\": 75,\n",
    "            \"localized_name\": \"Silencer\"\n",
    "        },\n",
    "        {\n",
    "            \"name\": \"obsidian_destroyer\",\n",
    "            \"id\": 76,\n",
    "            \"localized_name\": \"Outworld Devourer\"\n",
    "        },\n",
    "        {\n",
    "            \"name\": \"lycan\",\n",
    "            \"id\": 77,\n",
    "            \"localized_name\": \"Lycanthrope\"\n",
    "        },\n",
    "        {\n",
    "            \"name\": \"brewmaster\",\n",
    "            \"id\": 78,\n",
    "            \"localized_name\": \"Brewmaster\"\n",
    "        },\n",
    "        {\n",
    "            \"name\": \"shadow_demon\",\n",
    "            \"id\": 79,\n",
    "            \"localized_name\": \"Shadow Demon\"\n",
    "        },\n",
    "        {\n",
    "            \"name\": \"lone_druid\",\n",
    "            \"id\": 80,\n",
    "            \"localized_name\": \"Lone Druid\"\n",
    "        },\n",
    "        {\n",
    "            \"name\": \"chaos_knight\",\n",
    "            \"id\": 81,\n",
    "            \"localized_name\": \"Chaos Knight\"\n",
    "        },\n",
    "        {\n",
    "            \"name\": \"meepo\",\n",
    "            \"id\": 82,\n",
    "            \"localized_name\": \"Meepo\"\n",
    "        },\n",
    "        {\n",
    "            \"name\": \"treant\",\n",
    "            \"id\": 83,\n",
    "            \"localized_name\": \"Treant Protector\"\n",
    "        },\n",
    "        {\n",
    "            \"name\": \"ogre_magi\",\n",
    "            \"id\": 84,\n",
    "            \"localized_name\": \"Ogre Magi\"\n",
    "        },\n",
    "        {\n",
    "            \"name\": \"undying\",\n",
    "            \"id\": 85,\n",
    "            \"localized_name\": \"Undying\"\n",
    "        },\n",
    "        {\n",
    "            \"name\": \"rubick\",\n",
    "            \"id\": 86,\n",
    "            \"localized_name\": \"Rubick\"\n",
    "        },\n",
    "        {\n",
    "            \"name\": \"disruptor\",\n",
    "            \"id\": 87,\n",
    "            \"localized_name\": \"Disruptor\"\n",
    "        },\n",
    "        {\n",
    "            \"name\": \"nyx_assassin\",\n",
    "            \"id\": 88,\n",
    "            \"localized_name\": \"Nyx Assassin\"\n",
    "        },\n",
    "        {\n",
    "            \"name\": \"naga_siren\",\n",
    "            \"id\": 89,\n",
    "            \"localized_name\": \"Naga Siren\"\n",
    "        },\n",
    "        {\n",
    "            \"name\": \"keeper_of_the_light\",\n",
    "            \"id\": 90,\n",
    "            \"localized_name\": \"Keeper of the Light\"\n",
    "        },\n",
    "        {\n",
    "            \"name\": \"wisp\",\n",
    "            \"id\": 91,\n",
    "            \"localized_name\": \"Wisp\"\n",
    "        },\n",
    "        {\n",
    "            \"name\": \"visage\",\n",
    "            \"id\": 92,\n",
    "            \"localized_name\": \"Visage\"\n",
    "        },\n",
    "        {\n",
    "            \"name\": \"slark\",\n",
    "            \"id\": 93,\n",
    "            \"localized_name\": \"Slark\"\n",
    "        },\n",
    "        {\n",
    "            \"name\": \"medusa\",\n",
    "            \"id\": 94,\n",
    "            \"localized_name\": \"Medusa\"\n",
    "        },\n",
    "        {\n",
    "            \"name\": \"troll_warlord\",\n",
    "            \"id\": 95,\n",
    "            \"localized_name\": \"Troll Warlord\"\n",
    "        },\n",
    "        {\n",
    "            \"name\": \"centaur\",\n",
    "            \"id\": 96,\n",
    "            \"localized_name\": \"Centaur Warrunner\"\n",
    "        },\n",
    "        {\n",
    "            \"name\": \"magnataur\",\n",
    "            \"id\": 97,\n",
    "            \"localized_name\": \"Magnus\"\n",
    "        },\n",
    "        {\n",
    "            \"name\": \"shredder\",\n",
    "            \"id\": 98,\n",
    "            \"localized_name\": \"Timbersaw\"\n",
    "        },\n",
    "        {\n",
    "            \"name\": \"bristleback\",\n",
    "            \"id\": 99,\n",
    "            \"localized_name\": \"Bristleback\"\n",
    "        },\n",
    "        {\n",
    "            \"name\": \"tusk\",\n",
    "            \"id\": 100,\n",
    "            \"localized_name\": \"Tusk\"\n",
    "        },\n",
    "        {\n",
    "            \"name\": \"skywrath_mage\",\n",
    "            \"id\": 101,\n",
    "            \"localized_name\": \"Skywrath Mage\"\n",
    "        },\n",
    "        {\n",
    "            \"name\": \"abaddon\",\n",
    "            \"id\": 102,\n",
    "            \"localized_name\": \"Abaddon\"\n",
    "        },\n",
    "        {\n",
    "            \"name\": \"elder_titan\",\n",
    "            \"id\": 103,\n",
    "            \"localized_name\": \"Elder Titan\"\n",
    "        },\n",
    "        {\n",
    "            \"name\": \"legion_commander\",\n",
    "            \"id\": 104,\n",
    "            \"localized_name\": \"Legion Commander\"\n",
    "        },\n",
    "        {\n",
    "            \"name\": \"ember_spirit\",\n",
    "            \"id\": 106,\n",
    "            \"localized_name\": \"Ember Spirit\"\n",
    "        },\n",
    "        {\n",
    "            \"name\": \"earth_spirit\",\n",
    "            \"id\": 107,\n",
    "            \"localized_name\": \"Earth Spirit\"\n",
    "        },\n",
    "        {\n",
    "            \"name\": \"abyssal_underlord\",\n",
    "            \"id\": 108,\n",
    "            \"localized_name\": \"Abyssal Underlord\"\n",
    "        },\n",
    "        {\n",
    "            \"name\": \"terrorblade\",\n",
    "            \"id\": 109,\n",
    "            \"localized_name\": \"Terrorblade\"\n",
    "        },\n",
    "        {\n",
    "            \"name\": \"phoenix\",\n",
    "            \"id\": 110,\n",
    "            \"localized_name\": \"Phoenix\"\n",
    "        },\n",
    "        {\n",
    "            \"name\": \"techies\",\n",
    "            \"id\": 105,\n",
    "            \"localized_name\": \"Techies\"\n",
    "        },\n",
    "        {\n",
    "            \"name\": \"oracle\",\n",
    "            \"id\": 111,\n",
    "            \"localized_name\": \"Oracle\"\n",
    "        },\n",
    "        {\n",
    "            \"name\": \"winter_wyvern\",\n",
    "            \"id\": 112,\n",
    "            \"localized_name\": \"Winter Wyvern\"\n",
    "        },\n",
    "        {\n",
    "            \"name\": \"arc_warden\",\n",
    "            \"id\": 113,\n",
    "            \"localized_name\": \"Arc Warden\"\n",
    "        }\n",
    "    ]\n",
    "}"
   ]
  },
  {
   "cell_type": "markdown",
   "metadata": {},
   "source": [
    "> 将前面的英雄名词映射关系转化成变量名称"
   ]
  },
  {
   "cell_type": "code",
   "execution_count": 16,
   "metadata": {
    "collapsed": false
   },
   "outputs": [],
   "source": [
    "heroes = pd.DataFrame(hero_names['heroes'])\n",
    "\n",
    "columns = ['won', 'cluster_id', 'mode', 'type']\n",
    "others = [i for i in range(1, 114)]\n",
    "columns.extend(others)"
   ]
  },
  {
   "cell_type": "code",
   "execution_count": 17,
   "metadata": {
    "collapsed": false
   },
   "outputs": [],
   "source": [
    "dota2_train.columns = columns\n",
    "dota2_test.columns = columns"
   ]
  },
  {
   "cell_type": "code",
   "execution_count": 18,
   "metadata": {
    "collapsed": true
   },
   "outputs": [],
   "source": [
    "names_dt = dict()\n",
    "for i in heroes.index:\n",
    "    ind = heroes.loc[i, 'id']\n",
    "    val = heroes.loc[i, 'name']\n",
    "    names_dt[ind] = val\n",
    "\n",
    "dota2_train = dota2_train.rename(columns=names_dt)"
   ]
  },
  {
   "cell_type": "markdown",
   "metadata": {},
   "source": [
    "> 变量中如果有英雄未获得名称则命名为unname_hero{i}，如果只有一个匿名英雄则去除i"
   ]
  },
  {
   "cell_type": "code",
   "execution_count": 20,
   "metadata": {
    "collapsed": false
   },
   "outputs": [],
   "source": [
    "rename_dt = dict()\n",
    "i = 1\n",
    "for name in dota2_train.columns:\n",
    "    try:\n",
    "        int(name)\n",
    "        rename_dt[name] = 'unname_hero' + str(i)\n",
    "        i += 1\n",
    "    except ValueError:\n",
    "        pass\n",
    "\n",
    "if i == 1:\n",
    "    rename_dt[name] = 'unname_hero'\n",
    "\n",
    "dota2_train = dota2_train.rename(columns=rename_dt)"
   ]
  },
  {
   "cell_type": "code",
   "execution_count": 21,
   "metadata": {
    "collapsed": true
   },
   "outputs": [],
   "source": [
    "dota2_test.columns = dota2_train.columns"
   ]
  },
  {
   "cell_type": "code",
   "execution_count": 22,
   "metadata": {
    "collapsed": false
   },
   "outputs": [
    {
     "data": {
      "text/html": [
       "<div>\n",
       "<table border=\"1\" class=\"dataframe\">\n",
       "  <thead>\n",
       "    <tr style=\"text-align: right;\">\n",
       "      <th></th>\n",
       "      <th>won</th>\n",
       "      <th>cluster_id</th>\n",
       "      <th>mode</th>\n",
       "      <th>type</th>\n",
       "      <th>antimage</th>\n",
       "      <th>axe</th>\n",
       "      <th>bane</th>\n",
       "      <th>bloodseeker</th>\n",
       "      <th>crystal_maiden</th>\n",
       "      <th>drow_ranger</th>\n",
       "      <th>...</th>\n",
       "      <th>legion_commander</th>\n",
       "      <th>techies</th>\n",
       "      <th>ember_spirit</th>\n",
       "      <th>earth_spirit</th>\n",
       "      <th>abyssal_underlord</th>\n",
       "      <th>terrorblade</th>\n",
       "      <th>phoenix</th>\n",
       "      <th>oracle</th>\n",
       "      <th>winter_wyvern</th>\n",
       "      <th>arc_warden</th>\n",
       "    </tr>\n",
       "  </thead>\n",
       "  <tbody>\n",
       "    <tr>\n",
       "      <th>0</th>\n",
       "      <td>-1</td>\n",
       "      <td>223</td>\n",
       "      <td>2</td>\n",
       "      <td>2</td>\n",
       "      <td>0</td>\n",
       "      <td>0</td>\n",
       "      <td>0</td>\n",
       "      <td>0</td>\n",
       "      <td>0</td>\n",
       "      <td>0</td>\n",
       "      <td>...</td>\n",
       "      <td>0</td>\n",
       "      <td>0</td>\n",
       "      <td>0</td>\n",
       "      <td>0</td>\n",
       "      <td>0</td>\n",
       "      <td>0</td>\n",
       "      <td>0</td>\n",
       "      <td>0</td>\n",
       "      <td>0</td>\n",
       "      <td>0</td>\n",
       "    </tr>\n",
       "    <tr>\n",
       "      <th>1</th>\n",
       "      <td>1</td>\n",
       "      <td>152</td>\n",
       "      <td>2</td>\n",
       "      <td>2</td>\n",
       "      <td>0</td>\n",
       "      <td>0</td>\n",
       "      <td>0</td>\n",
       "      <td>1</td>\n",
       "      <td>0</td>\n",
       "      <td>-1</td>\n",
       "      <td>...</td>\n",
       "      <td>0</td>\n",
       "      <td>0</td>\n",
       "      <td>0</td>\n",
       "      <td>0</td>\n",
       "      <td>0</td>\n",
       "      <td>0</td>\n",
       "      <td>0</td>\n",
       "      <td>0</td>\n",
       "      <td>0</td>\n",
       "      <td>0</td>\n",
       "    </tr>\n",
       "    <tr>\n",
       "      <th>2</th>\n",
       "      <td>1</td>\n",
       "      <td>131</td>\n",
       "      <td>2</td>\n",
       "      <td>2</td>\n",
       "      <td>0</td>\n",
       "      <td>0</td>\n",
       "      <td>0</td>\n",
       "      <td>1</td>\n",
       "      <td>0</td>\n",
       "      <td>-1</td>\n",
       "      <td>...</td>\n",
       "      <td>0</td>\n",
       "      <td>0</td>\n",
       "      <td>0</td>\n",
       "      <td>0</td>\n",
       "      <td>0</td>\n",
       "      <td>0</td>\n",
       "      <td>0</td>\n",
       "      <td>0</td>\n",
       "      <td>0</td>\n",
       "      <td>0</td>\n",
       "    </tr>\n",
       "    <tr>\n",
       "      <th>3</th>\n",
       "      <td>1</td>\n",
       "      <td>154</td>\n",
       "      <td>2</td>\n",
       "      <td>2</td>\n",
       "      <td>0</td>\n",
       "      <td>0</td>\n",
       "      <td>0</td>\n",
       "      <td>0</td>\n",
       "      <td>0</td>\n",
       "      <td>0</td>\n",
       "      <td>...</td>\n",
       "      <td>-1</td>\n",
       "      <td>0</td>\n",
       "      <td>0</td>\n",
       "      <td>0</td>\n",
       "      <td>0</td>\n",
       "      <td>0</td>\n",
       "      <td>0</td>\n",
       "      <td>0</td>\n",
       "      <td>0</td>\n",
       "      <td>0</td>\n",
       "    </tr>\n",
       "    <tr>\n",
       "      <th>4</th>\n",
       "      <td>-1</td>\n",
       "      <td>171</td>\n",
       "      <td>2</td>\n",
       "      <td>3</td>\n",
       "      <td>0</td>\n",
       "      <td>0</td>\n",
       "      <td>0</td>\n",
       "      <td>0</td>\n",
       "      <td>0</td>\n",
       "      <td>-1</td>\n",
       "      <td>...</td>\n",
       "      <td>0</td>\n",
       "      <td>0</td>\n",
       "      <td>0</td>\n",
       "      <td>0</td>\n",
       "      <td>0</td>\n",
       "      <td>0</td>\n",
       "      <td>0</td>\n",
       "      <td>0</td>\n",
       "      <td>0</td>\n",
       "      <td>0</td>\n",
       "    </tr>\n",
       "  </tbody>\n",
       "</table>\n",
       "<p>5 rows × 117 columns</p>\n",
       "</div>"
      ],
      "text/plain": [
       "   won  cluster_id  mode  type  antimage  axe  bane  bloodseeker  \\\n",
       "0   -1         223     2     2         0    0     0            0   \n",
       "1    1         152     2     2         0    0     0            1   \n",
       "2    1         131     2     2         0    0     0            1   \n",
       "3    1         154     2     2         0    0     0            0   \n",
       "4   -1         171     2     3         0    0     0            0   \n",
       "\n",
       "   crystal_maiden  drow_ranger     ...      legion_commander  techies  \\\n",
       "0               0            0     ...                     0        0   \n",
       "1               0           -1     ...                     0        0   \n",
       "2               0           -1     ...                     0        0   \n",
       "3               0            0     ...                    -1        0   \n",
       "4               0           -1     ...                     0        0   \n",
       "\n",
       "   ember_spirit  earth_spirit  abyssal_underlord  terrorblade  phoenix  \\\n",
       "0             0             0                  0            0        0   \n",
       "1             0             0                  0            0        0   \n",
       "2             0             0                  0            0        0   \n",
       "3             0             0                  0            0        0   \n",
       "4             0             0                  0            0        0   \n",
       "\n",
       "   oracle  winter_wyvern  arc_warden  \n",
       "0       0              0           0  \n",
       "1       0              0           0  \n",
       "2       0              0           0  \n",
       "3       0              0           0  \n",
       "4       0              0           0  \n",
       "\n",
       "[5 rows x 117 columns]"
      ]
     },
     "execution_count": 22,
     "metadata": {},
     "output_type": "execute_result"
    }
   ],
   "source": [
    "dota2_train.head()"
   ]
  },
  {
   "cell_type": "markdown",
   "metadata": {},
   "source": [
    "## 检查离散变量与连续变量"
   ]
  },
  {
   "cell_type": "code",
   "execution_count": 23,
   "metadata": {
    "collapsed": false
   },
   "outputs": [
    {
     "name": "stdout",
     "output_type": "stream",
     "text": [
      "['cluster_id', 'mode']\n",
      "['won', 'type', 'antimage', 'axe', 'bane', 'bloodseeker', 'crystal_maiden', 'drow_ranger', 'earthshaker', 'juggernaut', 'mirana', 'morphling', 'nevermore', 'phantom_lancer', 'puck', 'pudge', 'razor', 'sand_king', 'storm_spirit', 'sven', 'tiny', 'vengefulspirit', 'windrunner', 'zuus', 'kunkka', 'unname_hero1', 'lina', 'lion', 'shadow_shaman', 'slardar', 'tidehunter', 'witch_doctor', 'lich', 'riki', 'enigma', 'tinker', 'sniper', 'necrolyte', 'warlock', 'beastmaster', 'queenofpain', 'venomancer', 'faceless_void', 'skeleton_king', 'death_prophet', 'phantom_assassin', 'pugna', 'templar_assassin', 'viper', 'luna', 'dragon_knight', 'dazzle', 'rattletrap', 'leshrac', 'furion', 'life_stealer', 'dark_seer', 'clinkz', 'omniknight', 'enchantress', 'huskar', 'night_stalker', 'broodmother', 'bounty_hunter', 'weaver', 'jakiro', 'batrider', 'chen', 'spectre', 'ancient_apparition', 'doom_bringer', 'ursa', 'spirit_breaker', 'gyrocopter', 'alchemist', 'invoker', 'silencer', 'obsidian_destroyer', 'lycan', 'brewmaster', 'shadow_demon', 'lone_druid', 'chaos_knight', 'meepo', 'treant', 'ogre_magi', 'undying', 'rubick', 'disruptor', 'nyx_assassin', 'naga_siren', 'keeper_of_the_light', 'wisp', 'visage', 'slark', 'medusa', 'troll_warlord', 'centaur', 'magnataur', 'shredder', 'bristleback', 'tusk', 'skywrath_mage', 'abaddon', 'elder_titan', 'legion_commander', 'techies', 'ember_spirit', 'earth_spirit', 'abyssal_underlord', 'terrorblade', 'phoenix', 'oracle', 'winter_wyvern', 'arc_warden']\n"
     ]
    }
   ],
   "source": [
    "continus = []\n",
    "discrete = []\n",
    "\n",
    "for var in dota2_train.columns:\n",
    "    if dota2_train[var].unique().shape[0] >= 5:\n",
    "        continus.append(var)\n",
    "    else:\n",
    "        discrete.append(var)\n",
    "\n",
    "print(continus)\n",
    "print(discrete)"
   ]
  },
  {
   "cell_type": "markdown",
   "metadata": {},
   "source": [
    "**说明：**可以看出，数值种类超出5的只有cluster_id, mode"
   ]
  },
  {
   "cell_type": "markdown",
   "metadata": {
    "collapsed": false
   },
   "source": [
    "## 单变量分析\n",
    "> 此处仅分析训练集合情况"
   ]
  },
  {
   "cell_type": "markdown",
   "metadata": {
    "collapsed": false
   },
   "source": [
    "### 玩家最爱玩的英雄分析"
   ]
  },
  {
   "cell_type": "code",
   "execution_count": 26,
   "metadata": {
    "collapsed": true
   },
   "outputs": [],
   "source": [
    "import numpy as np\n",
    "import matplotlib.pyplot as plt\n",
    "%matplotlib inline"
   ]
  },
  {
   "cell_type": "code",
   "execution_count": 27,
   "metadata": {
    "collapsed": false
   },
   "outputs": [],
   "source": [
    "heros = [x for x in dota2_train.columns if x not in ['won', 'cluster_id', 'mode', 'type', 'mode_name']]\n",
    "hero_freq = dict()\n",
    "for hero in heros:\n",
    "    hero_data = dota2_train[hero]\n",
    "    hero_data = np.where(hero_data == -1, 1, hero_data)\n",
    "    hero_freq[hero] = hero_data.sum()\n",
    "    \n",
    "hero_counts= pd.Series(hero_freq)"
   ]
  },
  {
   "cell_type": "code",
   "execution_count": 28,
   "metadata": {
    "collapsed": false
   },
   "outputs": [
    {
     "data": {
      "text/plain": [
       "abyssal_underlord       0\n",
       "unname_hero1            0\n",
       "chen                  790\n",
       "visage                888\n",
       "brewmaster           1558\n",
       "dtype: int64"
      ]
     },
     "execution_count": 28,
     "metadata": {},
     "output_type": "execute_result"
    }
   ],
   "source": [
    "hero_counts.sort_values().head()"
   ]
  },
  {
   "cell_type": "markdown",
   "metadata": {},
   "source": [
    "** 说明： ** 有两个英雄是没有人用过，其他的从brewmaster陡然下降"
   ]
  },
  {
   "cell_type": "code",
   "execution_count": 31,
   "metadata": {
    "collapsed": false
   },
   "outputs": [
    {
     "data": {
      "text/plain": [
       "mirana              32048\n",
       "phantom_assassin    29802\n",
       "pudge               28285\n",
       "legion_commander    26521\n",
       "juggernaut          23327\n",
       "dtype: int64"
      ]
     },
     "execution_count": 31,
     "metadata": {},
     "output_type": "execute_result"
    }
   ],
   "source": [
    "hero_counts.sort_values(ascending=False).head()"
   ]
  },
  {
   "cell_type": "markdown",
   "metadata": {},
   "source": [
    "**说明：**高频次英雄出现频率其实都差不多"
   ]
  },
  {
   "cell_type": "code",
   "execution_count": 34,
   "metadata": {
    "collapsed": false
   },
   "outputs": [
    {
     "data": {
      "image/png": "[encoded data removed]",
      "text/plain": [
       "<matplotlib.figure.Figure at 0x7fd3f014c7f0>"
      ]
     },
     "metadata": {},
     "output_type": "display_data"
    }
   ],
   "source": [
    "plt.figure(figsize=(20, 8))\n",
    "hero_counts = hero_counts.sort_values(ascending=False)\n",
    "plt.bar(range(hero_counts.shape[0]), hero_counts.values)\n",
    "plt.xticks(range(hero_counts.shape[0]), hero_counts.index, rotation=90)\n",
    "plt.show()"
   ]
  },
  {
   "cell_type": "markdown",
   "metadata": {},
   "source": [
    "**说明：**前20左右的英雄占了绝大部分比例"
   ]
  },
  {
   "cell_type": "markdown",
   "metadata": {},
   "source": [
    "### 分析最受欢迎的游戏模式"
   ]
  },
  {
   "cell_type": "code",
   "execution_count": 35,
   "metadata": {
    "collapsed": false
   },
   "outputs": [],
   "source": [
    "mode_name = {1:'classic',\n",
    "            2:'normal',\n",
    "            3:'easy',\n",
    "            4:'AllrandAllmid',\n",
    "            5:'fortress',\n",
    "            6:'arena',\n",
    "            7:'wild',\n",
    "            8:'free',\n",
    "            9:'commander'}\n",
    "dota2_train['mode_name'] = dota2_train['mode'].map(mode_name)"
   ]
  },
  {
   "cell_type": "code",
   "execution_count": 36,
   "metadata": {
    "collapsed": false
   },
   "outputs": [
    {
     "data": {
      "image/png": "[encoded data removed]",
      "text/plain": [
       "<matplotlib.figure.Figure at 0x7fd3e73a96a0>"
      ]
     },
     "metadata": {},
     "output_type": "display_data"
    }
   ],
   "source": [
    "plt.figure(figsize=(10, 8))\n",
    "counts_of_mode = dota2_train['mode_name'].value_counts()\n",
    "plt.bar(range(counts_of_mode.shape[0]), counts_of_mode.values)\n",
    "plt.xticks(range(counts_of_mode.shape[0]), counts_of_mode.index, rotation=45)\n",
    "plt.show()"
   ]
  },
  {
   "cell_type": "markdown",
   "metadata": {
    "collapsed": false
   },
   "source": [
    "**说明:**最受玩家喜爱的模式为【普通】normal,【指挥官】commander,【自由】模式，而【堡垒】fortress，【野外】wild模式比例较小\n",
    "> 对该变量，可以进行类别特征合并处理"
   ]
  },
  {
   "cell_type": "markdown",
   "metadata": {},
   "source": [
    "## 分析游戏type分布情况"
   ]
  },
  {
   "cell_type": "code",
   "execution_count": 37,
   "metadata": {
    "collapsed": false,
    "scrolled": false
   },
   "outputs": [
    {
     "data": {
      "image/png": "[encoded data removed]",
      "text/plain": [
       "<matplotlib.figure.Figure at 0x7fd3ecc96160>"
      ]
     },
     "metadata": {},
     "output_type": "display_data"
    }
   ],
   "source": [
    "plt.figure(figsize=(10, 8))\n",
    "counts_of_type = dota2_train['type'].value_counts()\n",
    "plt.bar(range(counts_of_type.shape[0]), counts_of_type.values)\n",
    "plt.xticks(range(counts_of_type.shape[0]), counts_of_type.index, rotation=45)\n",
    "plt.show()"
   ]
  },
  {
   "cell_type": "markdown",
   "metadata": {},
   "source": [
    "**说明:**1类型数量偏少，2，3较多，预处理上可以忽略1的影响"
   ]
  },
  {
   "cell_type": "markdown",
   "metadata": {},
   "source": [
    "### 分析cluster_id"
   ]
  },
  {
   "cell_type": "code",
   "execution_count": 39,
   "metadata": {
    "collapsed": false
   },
   "outputs": [
    {
     "data": {
      "text/plain": [
       "count    92650.000000\n",
       "mean       175.864145\n",
       "std         35.658214\n",
       "min        111.000000\n",
       "25%        152.000000\n",
       "50%        156.000000\n",
       "75%        223.000000\n",
       "max        261.000000\n",
       "Name: cluster_id, dtype: float64"
      ]
     },
     "execution_count": 39,
     "metadata": {},
     "output_type": "execute_result"
    }
   ],
   "source": [
    "dota2_train['cluster_id'].describe()"
   ]
  },
  {
   "cell_type": "code",
   "execution_count": 51,
   "metadata": {
    "collapsed": false
   },
   "outputs": [
    {
     "data": {
      "image/png": "[encoded data removed]",
      "text/plain": [
       "<matplotlib.figure.Figure at 0x7fd3e65d8240>"
      ]
     },
     "metadata": {},
     "output_type": "display_data"
    }
   ],
   "source": [
    "n, bins, patches = plt.hist(x=dota2_train['cluster_id'], bins=20, facecolor='g', alpha=0.75)\n",
    "\n",
    "mu = round(np.mean(dota2_train['cluster_id']), 4)\n",
    "sigma = round(np.std(dota2_train['cluster_id']), 4)\n",
    "\n",
    "plt.xlabel('cluster_id')\n",
    "plt.ylabel('Probability')\n",
    "plt.title('Histogram of cluster_id')\n",
    "plt.text(200, 30000, r'$\\mu={},\\ \\sigma={}$'.format(mu, sigma))\n",
    "\n",
    "#plt.grid(True)\n",
    "plt.show()"
   ]
  },
  {
   "cell_type": "markdown",
   "metadata": {
    "collapsed": false
   },
   "source": [
    "## 多变量分析\n",
    "### 分析常胜将军\n",
    "> 分析各个英雄的胜率，也就是说，我需要将数据转换成如下格式\n",
    "\n",
    "hero_name | win_times | loss_times\n",
    ":-|:-|:-\n",
    "hero|xx|xx"
   ]
  },
  {
   "cell_type": "code",
   "execution_count": 65,
   "metadata": {
    "collapsed": false
   },
   "outputs": [
    {
     "data": {
      "text/plain": [
       "Index(['antimage', 'axe', 'bane', 'bloodseeker', 'crystal_maiden',\n",
       "       'drow_ranger', 'earthshaker', 'juggernaut', 'mirana', 'morphling',\n",
       "       ...\n",
       "       'legion_commander', 'techies', 'ember_spirit', 'earth_spirit',\n",
       "       'abyssal_underlord', 'terrorblade', 'phoenix', 'oracle',\n",
       "       'winter_wyvern', 'arc_warden'],\n",
       "      dtype='object', length=113)"
      ]
     },
     "execution_count": 65,
     "metadata": {},
     "output_type": "execute_result"
    }
   ],
   "source": [
    "hero_names = dota2_train.columns[4:-1]\n",
    "hero_names"
   ]
  },
  {
   "cell_type": "code",
   "execution_count": 68,
   "metadata": {
    "collapsed": false
   },
   "outputs": [],
   "source": [
    "hero_win_loss = dict()\n",
    "\n",
    "for hero in hero_names:\n",
    "    # 对英雄进行分组\n",
    "    count = dota2_train[hero].value_counts()\n",
    "    # 分组统计hero频次\n",
    "    # 初始化win&loss次数\n",
    "    win_times = 0\n",
    "    loss_times = 0\n",
    "    # 统计win次数\n",
    "    if 1 in count.index:\n",
    "        win_times = count[1]\n",
    "    # 统计loss次数\n",
    "    if -1 in count.index:\n",
    "        loss_times = count[-1]\n",
    "    \n",
    "    hero_win_loss[hero] = {'win':win_times, 'loss':loss_times}\n",
    "\n",
    "    "
   ]
  },
  {
   "cell_type": "code",
   "execution_count": 70,
   "metadata": {
    "collapsed": false
   },
   "outputs": [],
   "source": [
    "win_loss_count = pd.DataFrame(hero_win_loss).T"
   ]
  },
  {
   "cell_type": "code",
   "execution_count": 71,
   "metadata": {
    "collapsed": false
   },
   "outputs": [
    {
     "data": {
      "text/html": [
       "<div>\n",
       "<table border=\"1\" class=\"dataframe\">\n",
       "  <thead>\n",
       "    <tr style=\"text-align: right;\">\n",
       "      <th></th>\n",
       "      <th>loss</th>\n",
       "      <th>win</th>\n",
       "    </tr>\n",
       "  </thead>\n",
       "  <tbody>\n",
       "    <tr>\n",
       "      <th>abaddon</th>\n",
       "      <td>2039</td>\n",
       "      <td>2040</td>\n",
       "    </tr>\n",
       "    <tr>\n",
       "      <th>abyssal_underlord</th>\n",
       "      <td>0</td>\n",
       "      <td>0</td>\n",
       "    </tr>\n",
       "    <tr>\n",
       "      <th>alchemist</th>\n",
       "      <td>5954</td>\n",
       "      <td>6115</td>\n",
       "    </tr>\n",
       "    <tr>\n",
       "      <th>ancient_apparition</th>\n",
       "      <td>3051</td>\n",
       "      <td>2954</td>\n",
       "    </tr>\n",
       "    <tr>\n",
       "      <th>antimage</th>\n",
       "      <td>7562</td>\n",
       "      <td>7411</td>\n",
       "    </tr>\n",
       "  </tbody>\n",
       "</table>\n",
       "</div>"
      ],
      "text/plain": [
       "                    loss   win\n",
       "abaddon             2039  2040\n",
       "abyssal_underlord      0     0\n",
       "alchemist           5954  6115\n",
       "ancient_apparition  3051  2954\n",
       "antimage            7562  7411"
      ]
     },
     "execution_count": 71,
     "metadata": {},
     "output_type": "execute_result"
    }
   ],
   "source": [
    "win_loss_count.head()"
   ]
  },
  {
   "cell_type": "code",
   "execution_count": 72,
   "metadata": {
    "collapsed": false
   },
   "outputs": [
    {
     "data": {
      "text/html": [
       "<div>\n",
       "<table border=\"1\" class=\"dataframe\">\n",
       "  <thead>\n",
       "    <tr style=\"text-align: right;\">\n",
       "      <th></th>\n",
       "      <th>loss</th>\n",
       "      <th>win</th>\n",
       "      <th>total</th>\n",
       "    </tr>\n",
       "  </thead>\n",
       "  <tbody>\n",
       "    <tr>\n",
       "      <th>mirana</th>\n",
       "      <td>15747</td>\n",
       "      <td>16301</td>\n",
       "      <td>32048</td>\n",
       "    </tr>\n",
       "    <tr>\n",
       "      <th>phantom_assassin</th>\n",
       "      <td>14756</td>\n",
       "      <td>15046</td>\n",
       "      <td>29802</td>\n",
       "    </tr>\n",
       "    <tr>\n",
       "      <th>pudge</th>\n",
       "      <td>14099</td>\n",
       "      <td>14186</td>\n",
       "      <td>28285</td>\n",
       "    </tr>\n",
       "    <tr>\n",
       "      <th>legion_commander</th>\n",
       "      <td>13324</td>\n",
       "      <td>13197</td>\n",
       "      <td>26521</td>\n",
       "    </tr>\n",
       "    <tr>\n",
       "      <th>juggernaut</th>\n",
       "      <td>11841</td>\n",
       "      <td>11486</td>\n",
       "      <td>23327</td>\n",
       "    </tr>\n",
       "  </tbody>\n",
       "</table>\n",
       "</div>"
      ],
      "text/plain": [
       "                   loss    win  total\n",
       "mirana            15747  16301  32048\n",
       "phantom_assassin  14756  15046  29802\n",
       "pudge             14099  14186  28285\n",
       "legion_commander  13324  13197  26521\n",
       "juggernaut        11841  11486  23327"
      ]
     },
     "execution_count": 72,
     "metadata": {},
     "output_type": "execute_result"
    }
   ],
   "source": [
    "# 检查结果\n",
    "win_loss_count['total'] = win_loss_count['loss'] + win_loss_count['win']\n",
    "win_loss_count.sort_values(by='total', ascending=False).head()"
   ]
  },
  {
   "cell_type": "code",
   "execution_count": 76,
   "metadata": {
    "collapsed": false
   },
   "outputs": [],
   "source": [
    "# 统计胜率，并排序\n",
    "adj = 1e-7\n",
    "\n",
    "win_loss_count['win_pct'] = win_loss_count['win']/(win_loss_count['total'] + adj)"
   ]
  },
  {
   "cell_type": "code",
   "execution_count": 77,
   "metadata": {
    "collapsed": false
   },
   "outputs": [
    {
     "data": {
      "text/html": [
       "<div>\n",
       "<table border=\"1\" class=\"dataframe\">\n",
       "  <thead>\n",
       "    <tr style=\"text-align: right;\">\n",
       "      <th></th>\n",
       "      <th>loss</th>\n",
       "      <th>win</th>\n",
       "      <th>total</th>\n",
       "      <th>win_pct</th>\n",
       "    </tr>\n",
       "  </thead>\n",
       "  <tbody>\n",
       "    <tr>\n",
       "      <th>furion</th>\n",
       "      <td>3222</td>\n",
       "      <td>4047</td>\n",
       "      <td>7269</td>\n",
       "      <td>0.556748</td>\n",
       "    </tr>\n",
       "    <tr>\n",
       "      <th>wisp</th>\n",
       "      <td>752</td>\n",
       "      <td>840</td>\n",
       "      <td>1592</td>\n",
       "      <td>0.527638</td>\n",
       "    </tr>\n",
       "    <tr>\n",
       "      <th>arc_warden</th>\n",
       "      <td>854</td>\n",
       "      <td>937</td>\n",
       "      <td>1791</td>\n",
       "      <td>0.523171</td>\n",
       "    </tr>\n",
       "    <tr>\n",
       "      <th>chen</th>\n",
       "      <td>380</td>\n",
       "      <td>410</td>\n",
       "      <td>790</td>\n",
       "      <td>0.518987</td>\n",
       "    </tr>\n",
       "    <tr>\n",
       "      <th>naga_siren</th>\n",
       "      <td>1439</td>\n",
       "      <td>1522</td>\n",
       "      <td>2961</td>\n",
       "      <td>0.514016</td>\n",
       "    </tr>\n",
       "  </tbody>\n",
       "</table>\n",
       "</div>"
      ],
      "text/plain": [
       "            loss   win  total   win_pct\n",
       "furion      3222  4047   7269  0.556748\n",
       "wisp         752   840   1592  0.527638\n",
       "arc_warden   854   937   1791  0.523171\n",
       "chen         380   410    790  0.518987\n",
       "naga_siren  1439  1522   2961  0.514016"
      ]
     },
     "execution_count": 77,
     "metadata": {},
     "output_type": "execute_result"
    }
   ],
   "source": [
    "win_loss_count.sort_values(by='win_pct', ascending=False).head()"
   ]
  },
  {
   "cell_type": "code",
   "execution_count": 80,
   "metadata": {
    "collapsed": false
   },
   "outputs": [
    {
     "data": {
      "text/html": [
       "<div>\n",
       "<table border=\"1\" class=\"dataframe\">\n",
       "  <thead>\n",
       "    <tr style=\"text-align: right;\">\n",
       "      <th></th>\n",
       "      <th>loss</th>\n",
       "      <th>win</th>\n",
       "      <th>total</th>\n",
       "      <th>win_pct</th>\n",
       "    </tr>\n",
       "  </thead>\n",
       "  <tbody>\n",
       "    <tr>\n",
       "      <th>visage</th>\n",
       "      <td>460</td>\n",
       "      <td>428</td>\n",
       "      <td>888</td>\n",
       "      <td>0.481982</td>\n",
       "    </tr>\n",
       "    <tr>\n",
       "      <th>death_prophet</th>\n",
       "      <td>2053</td>\n",
       "      <td>1941</td>\n",
       "      <td>3994</td>\n",
       "      <td>0.485979</td>\n",
       "    </tr>\n",
       "    <tr>\n",
       "      <th>rattletrap</th>\n",
       "      <td>2006</td>\n",
       "      <td>1913</td>\n",
       "      <td>3919</td>\n",
       "      <td>0.488135</td>\n",
       "    </tr>\n",
       "    <tr>\n",
       "      <th>bristleback</th>\n",
       "      <td>4166</td>\n",
       "      <td>3979</td>\n",
       "      <td>8145</td>\n",
       "      <td>0.488521</td>\n",
       "    </tr>\n",
       "    <tr>\n",
       "      <th>techies</th>\n",
       "      <td>2012</td>\n",
       "      <td>1924</td>\n",
       "      <td>3936</td>\n",
       "      <td>0.488821</td>\n",
       "    </tr>\n",
       "  </tbody>\n",
       "</table>\n",
       "</div>"
      ],
      "text/plain": [
       "               loss   win  total   win_pct\n",
       "visage          460   428    888  0.481982\n",
       "death_prophet  2053  1941   3994  0.485979\n",
       "rattletrap     2006  1913   3919  0.488135\n",
       "bristleback    4166  3979   8145  0.488521\n",
       "techies        2012  1924   3936  0.488821"
      ]
     },
     "execution_count": 80,
     "metadata": {},
     "output_type": "execute_result"
    }
   ],
   "source": [
    "win_loss_count.sort_values(by='win_pct', ascending=True).head(7)[2:7]"
   ]
  },
  {
   "cell_type": "markdown",
   "metadata": {
    "collapsed": true
   },
   "source": [
    "** 说明：**胜率差距不是非常明显，大多数hero都集中在0.50上下"
   ]
  },
  {
   "cell_type": "code",
   "execution_count": 84,
   "metadata": {
    "collapsed": false
   },
   "outputs": [
    {
     "data": {
      "image/png": "[encoded data removed]",
      "text/plain": [
       "<matplotlib.figure.Figure at 0x7fd3e684dba8>"
      ]
     },
     "metadata": {},
     "output_type": "display_data"
    }
   ],
   "source": [
    "\n",
    "win_loss_count_dropzero  = win_loss_count.loc[win_loss_count['total']!=0, :]\n",
    "n, bins, patches = plt.hist(x=win_loss_count_dropzero['win_pct'], bins=10, facecolor='g', alpha=0.75)\n",
    "\n",
    "mu = round(np.mean(win_loss_count_dropzero['win_pct']), 4)\n",
    "sigma = round(np.std(win_loss_count_dropzero['win_pct']), 4)\n",
    "\n",
    "plt.xlabel('win_pct')\n",
    "plt.ylabel('Probability')\n",
    "plt.title('Histogram of win_pct')\n",
    "plt.text(0.52, 40, r'$\\mu={},\\ \\sigma={}$'.format(mu, sigma))\n",
    "\n",
    "#plt.grid(True)\n",
    "plt.show()"
   ]
  },
  {
   "cell_type": "markdown",
   "metadata": {},
   "source": [
    "**说明：**直方图也体现了大部分集中在0.5左右，只有furion到了0.55以上"
   ]
  },
  {
   "cell_type": "markdown",
   "metadata": {},
   "source": [
    "## 预测模型开发"
   ]
  },
  {
   "cell_type": "markdown",
   "metadata": {},
   "source": [
    "### 变量选择1：运用统计指标选择变量"
   ]
  },
  {
   "cell_type": "markdown",
   "metadata": {},
   "source": [
    "> 指标：卡方"
   ]
  },
  {
   "cell_type": "code",
   "execution_count": 87,
   "metadata": {
    "collapsed": false
   },
   "outputs": [],
   "source": [
    "target = pd.Series(np.where(dota2_train['won'] == 1, 1, 0), index=dota2_train.index)\n",
    "X_train = dota2_train.drop(['won', 'mode_name'], axis=1)"
   ]
  },
  {
   "cell_type": "code",
   "execution_count": 98,
   "metadata": {
    "collapsed": false
   },
   "outputs": [],
   "source": [
    "from scipy.stats import chi2_contingency\n",
    "\n",
    "chisq_res = dict()\n",
    "for x in X_train.columns:\n",
    "    if x == 'cluster_id':\n",
    "        pass\n",
    "    \n",
    "    ctab = pd.crosstab(index=dota2_train[x], columns=target)\n",
    "    chisq, p_value, degree_of_freedom,  expect_tab = chi2_contingency(ctab)\n",
    "    \n",
    "    chisq_res[x] = {'chisq':chisq, 'p_value':p_value, 'degree_of_freedom':degree_of_freedom}\n",
    "    \n",
    "chisq_res = pd.DataFrame(chisq_res).T"
   ]
  },
  {
   "cell_type": "code",
   "execution_count": 99,
   "metadata": {
    "collapsed": false
   },
   "outputs": [
    {
     "data": {
      "text/html": [
       "<div>\n",
       "<table border=\"1\" class=\"dataframe\">\n",
       "  <thead>\n",
       "    <tr style=\"text-align: right;\">\n",
       "      <th></th>\n",
       "      <th>chisq</th>\n",
       "      <th>degree_of_freedom</th>\n",
       "      <th>p_value</th>\n",
       "    </tr>\n",
       "  </thead>\n",
       "  <tbody>\n",
       "    <tr>\n",
       "      <th>omniknight</th>\n",
       "      <td>390.974669</td>\n",
       "      <td>2.0</td>\n",
       "      <td>1.261622e-85</td>\n",
       "    </tr>\n",
       "    <tr>\n",
       "      <th>mirana</th>\n",
       "      <td>364.060381</td>\n",
       "      <td>2.0</td>\n",
       "      <td>8.816428e-80</td>\n",
       "    </tr>\n",
       "    <tr>\n",
       "      <th>windrunner</th>\n",
       "      <td>239.476621</td>\n",
       "      <td>2.0</td>\n",
       "      <td>9.961218e-53</td>\n",
       "    </tr>\n",
       "    <tr>\n",
       "      <th>furion</th>\n",
       "      <td>219.613927</td>\n",
       "      <td>2.0</td>\n",
       "      <td>2.048527e-48</td>\n",
       "    </tr>\n",
       "    <tr>\n",
       "      <th>ember_spirit</th>\n",
       "      <td>185.329907</td>\n",
       "      <td>2.0</td>\n",
       "      <td>5.703246e-41</td>\n",
       "    </tr>\n",
       "  </tbody>\n",
       "</table>\n",
       "</div>"
      ],
      "text/plain": [
       "                   chisq  degree_of_freedom       p_value\n",
       "omniknight    390.974669                2.0  1.261622e-85\n",
       "mirana        364.060381                2.0  8.816428e-80\n",
       "windrunner    239.476621                2.0  9.961218e-53\n",
       "furion        219.613927                2.0  2.048527e-48\n",
       "ember_spirit  185.329907                2.0  5.703246e-41"
      ]
     },
     "execution_count": 99,
     "metadata": {},
     "output_type": "execute_result"
    }
   ],
   "source": [
    "chisq_res.sort_values(by='chisq', ascending=False).head()\n"
   ]
  },
  {
   "cell_type": "code",
   "execution_count": 100,
   "metadata": {
    "collapsed": true
   },
   "outputs": [],
   "source": [
    "select_by_chisq = chisq_res[chisq_res['p_value']<=0.05].index"
   ]
  },
  {
   "cell_type": "code",
   "execution_count": 111,
   "metadata": {
    "collapsed": false
   },
   "outputs": [],
   "source": [
    "len(select_by_chisq)\n",
    "select_by_chisq = set(select_by_chisq)"
   ]
  },
  {
   "cell_type": "markdown",
   "metadata": {},
   "source": [
    "**根据卡方值，有79个特征进入到模型中**"
   ]
  },
  {
   "cell_type": "markdown",
   "metadata": {},
   "source": [
    "### 特征选择2： 根据随机森林选择特征"
   ]
  },
  {
   "cell_type": "code",
   "execution_count": 102,
   "metadata": {
    "collapsed": false
   },
   "outputs": [
    {
     "data": {
      "text/plain": [
       "RandomForestClassifier(bootstrap=True, class_weight=None, criterion='gini',\n",
       "            max_depth=5, max_features='auto', max_leaf_nodes=None,\n",
       "            min_impurity_decrease=0.0, min_impurity_split=None,\n",
       "            min_samples_leaf=1, min_samples_split=2,\n",
       "            min_weight_fraction_leaf=0.0, n_estimators=100, n_jobs=1,\n",
       "            oob_score=False, random_state=None, verbose=0,\n",
       "            warm_start=False)"
      ]
     },
     "execution_count": 102,
     "metadata": {},
     "output_type": "execute_result"
    }
   ],
   "source": [
    "from sklearn.ensemble import RandomForestClassifier\n",
    "\n",
    "rf_model = RandomForestClassifier(n_estimators=100, max_depth=5)\n",
    "rf_model.fit(X_train, target)"
   ]
  },
  {
   "cell_type": "code",
   "execution_count": 104,
   "metadata": {
    "collapsed": false
   },
   "outputs": [],
   "source": [
    "feature_importances_ = pd.Series(rf_model.feature_importances_, index=X_train.columns)"
   ]
  },
  {
   "cell_type": "code",
   "execution_count": 106,
   "metadata": {
    "collapsed": false
   },
   "outputs": [
    {
     "data": {
      "text/plain": [
       "mirana         0.121538\n",
       "omniknight     0.113922\n",
       "windrunner     0.069561\n",
       "necrolyte      0.050127\n",
       "elder_titan    0.048210\n",
       "dtype: float64"
      ]
     },
     "execution_count": 106,
     "metadata": {},
     "output_type": "execute_result"
    }
   ],
   "source": [
    "feature_importances_.sort_values(ascending=False).head()"
   ]
  },
  {
   "cell_type": "code",
   "execution_count": 107,
   "metadata": {
    "collapsed": false
   },
   "outputs": [
    {
     "data": {
      "image/png": "[encoded data removed]",
      "text/plain": [
       "<matplotlib.figure.Figure at 0x7fd3d0ad30f0>"
      ]
     },
     "metadata": {},
     "output_type": "display_data"
    }
   ],
   "source": [
    "plt.figure(figsize=(20, 8))\n",
    "fi = feature_importances_.sort_values(ascending=False)\n",
    "plt.bar(range(fi.shape[0]), fi.values)\n",
    "plt.xticks(range(fi.shape[0]), fi.index, rotation=90)\n",
    "plt.show()"
   ]
  },
  {
   "cell_type": "code",
   "execution_count": 108,
   "metadata": {
    "collapsed": false
   },
   "outputs": [
    {
     "data": {
      "text/plain": [
       "21"
      ]
     },
     "execution_count": 108,
     "metadata": {},
     "output_type": "execute_result"
    }
   ],
   "source": [
    "sum(feature_importances_ > 0.01)"
   ]
  },
  {
   "cell_type": "code",
   "execution_count": 109,
   "metadata": {
    "collapsed": true
   },
   "outputs": [],
   "source": [
    "select_by_rf = feature_importances_[feature_importances_>0.01].index"
   ]
  },
  {
   "cell_type": "code",
   "execution_count": 112,
   "metadata": {
    "collapsed": false
   },
   "outputs": [],
   "source": [
    "select_by_rf = set(select_by_chisq)"
   ]
  },
  {
   "cell_type": "markdown",
   "metadata": {},
   "source": [
    "** 根据随机森林算法，一共有21个变量进入模型**"
   ]
  },
  {
   "cell_type": "code",
   "execution_count": 113,
   "metadata": {
    "collapsed": true
   },
   "outputs": [],
   "source": [
    "X_var_list = list(select_by_chisq | select_by_rf)"
   ]
  },
  {
   "cell_type": "code",
   "execution_count": 114,
   "metadata": {
    "collapsed": false
   },
   "outputs": [
    {
     "data": {
      "text/plain": [
       "79"
      ]
     },
     "execution_count": 114,
     "metadata": {},
     "output_type": "execute_result"
    }
   ],
   "source": [
    "len(X_var_list)"
   ]
  },
  {
   "cell_type": "markdown",
   "metadata": {},
   "source": [
    "## 模型开发\n",
    "预备模型为三种：\n",
    "\n",
    "* SVM\n",
    "* 随机森林\n",
    "* logistic回归\n",
    "* GBDT分类\n",
    "\n",
    "\n",
    "** 注意: **其中SVM，GBDT，随机森林将采用gridsearch法搜索最佳参数 "
   ]
  },
  {
   "cell_type": "code",
   "execution_count": 115,
   "metadata": {
    "collapsed": true
   },
   "outputs": [],
   "source": [
    "X_train_selected = X_train[X_var_list]"
   ]
  },
  {
   "cell_type": "code",
   "execution_count": null,
   "metadata": {
    "collapsed": true
   },
   "outputs": [],
   "source": [
    "X_train_selected"
   ]
  }
 ],
 "metadata": {
  "kernelspec": {
   "display_name": "Python 3",
   "language": "python",
   "name": "python3"
  },
  "language_info": {
   "codemirror_mode": {
    "name": "ipython",
    "version": 3
   },
   "file_extension": ".py",
   "mimetype": "text/x-python",
   "name": "python",
   "nbconvert_exporter": "python",
   "pygments_lexer": "ipython3",
   "version": "3.6.0"
  }
 },
 "nbformat": 4,
 "nbformat_minor": 2
}
